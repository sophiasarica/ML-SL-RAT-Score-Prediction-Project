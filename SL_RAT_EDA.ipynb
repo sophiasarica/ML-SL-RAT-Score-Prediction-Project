{
 "cells": [
  {
   "cell_type": "markdown",
   "metadata": {
    "id": "F__mh4-zoJnY"
   },
   "source": [
    "# SL-RAT Score Project "
   ]
  },
  {
   "cell_type": "markdown",
   "metadata": {},
   "source": [
    "                                                                                                   -Sophia Sarica \n"
   ]
  },
  {
   "cell_type": "markdown",
   "metadata": {},
   "source": [
    "### Introduction\n",
    "\n",
    "This dataset contains the data from Baltimore County Sewer System SL-RAT Scores.SL-RAT is an acoustic technology that provides blockage measurement within the pipeline and collects data between 0 to 10. Scores between 0 to 3 indicate the sewer line has a blockage and needs to be clean. SL-RAT scores help to identify the pipelines that need to be clean first. \n",
    "SL_RAT Analysis project will analyze SL-RAT Sewer System tool degradation over time and predict when the SL- RAT scores would be 0. \n",
    "That would help Baltimore County work on cleaning assessments more timely of overall sewer systems."
   ]
  },
  {
   "cell_type": "markdown",
   "metadata": {},
   "source": [
    "### Data and Setup\n",
    "\n",
    "The following columns contain SL-RAT Score data and GIS Attributes data from Baltimore County Sewer Systems.\n",
    " \n",
    "\n",
    "- `FACILITYID`: Unique number between two manholes.  \n",
    "- `ACTIVITY_CODE`: Activity type on each assessment \n",
    "- `COMPLETED_DATE`: Finish day of Activity  \n",
    "- `SLRAT_SCORE`: Sl-rat scores between 0-10.\n",
    "- `TYPE`: Type of the pipe \n",
    "- `LINING_TYP`: Type of the pipe connections\n",
    "- `PIPE_SIZE`: Size of Pipe  \n",
    "- `PIPE_MATER`: Material of Pipe\n",
    "- `SLOPE`: Slope for each FacilityID \n",
    "- `LENGTH`: Lenght of Pipe\n",
    "- `INSTALL_DA`: Time since the installation date\n"
   ]
  },
  {
   "cell_type": "code",
   "execution_count": 1,
   "metadata": {},
   "outputs": [
    {
     "name": "stdout",
     "output_type": "stream",
     "text": [
      "Pandas 1.3.4\n"
     ]
    }
   ],
   "source": [
    "#importing libraries\n",
    "import pandas as pd\n",
    "import matplotlib.pylab as plt\n",
    "import seaborn as sns\n",
    "import time\n",
    "print('Pandas',pd.__version__)"
   ]
  },
  {
   "cell_type": "code",
   "execution_count": 214,
   "metadata": {
    "id": "SAjMTQV6o34t"
   },
   "outputs": [
    {
     "data": {
      "text/html": [
       "<div>\n",
       "<style scoped>\n",
       "    .dataframe tbody tr th:only-of-type {\n",
       "        vertical-align: middle;\n",
       "    }\n",
       "\n",
       "    .dataframe tbody tr th {\n",
       "        vertical-align: top;\n",
       "    }\n",
       "\n",
       "    .dataframe thead th {\n",
       "        text-align: right;\n",
       "    }\n",
       "</style>\n",
       "<table border=\"1\" class=\"dataframe\">\n",
       "  <thead>\n",
       "    <tr style=\"text-align: right;\">\n",
       "      <th></th>\n",
       "      <th>source</th>\n",
       "      <th>rk</th>\n",
       "      <th>PK</th>\n",
       "      <th>FACILITYID</th>\n",
       "      <th>WORK_ORDER_NO</th>\n",
       "      <th>ACTIVITY_CODE</th>\n",
       "      <th>activitycode rk</th>\n",
       "      <th>COMPLETED_DATE</th>\n",
       "      <th>slrat only</th>\n",
       "      <th>SLRAT_SCORE</th>\n",
       "      <th>...</th>\n",
       "      <th>rk change</th>\n",
       "      <th>COF</th>\n",
       "      <th>FACILITYID Count</th>\n",
       "      <th>New Asset</th>\n",
       "      <th>ActivityCode lookup</th>\n",
       "      <th>Candidate</th>\n",
       "      <th>Predec. Candidate</th>\n",
       "      <th>Copy</th>\n",
       "      <th>Unnamed: 20</th>\n",
       "      <th>Unnamed: 21</th>\n",
       "    </tr>\n",
       "  </thead>\n",
       "  <tbody>\n",
       "    <tr>\n",
       "      <th>0</th>\n",
       "      <td>city</td>\n",
       "      <td>1.0</td>\n",
       "      <td>10000-10002-790381</td>\n",
       "      <td>10000-10002</td>\n",
       "      <td>790381</td>\n",
       "      <td>Gravity Main-SLRAT</td>\n",
       "      <td>1.0</td>\n",
       "      <td>2020-11-16 09:00:00</td>\n",
       "      <td>SLRAT</td>\n",
       "      <td>0.0</td>\n",
       "      <td>...</td>\n",
       "      <td>0.0</td>\n",
       "      <td>2.335</td>\n",
       "      <td>2</td>\n",
       "      <td>NEW</td>\n",
       "      <td>1</td>\n",
       "      <td>NO</td>\n",
       "      <td>NO</td>\n",
       "      <td>-</td>\n",
       "      <td>NaN</td>\n",
       "      <td>NaN</td>\n",
       "    </tr>\n",
       "    <tr>\n",
       "      <th>1</th>\n",
       "      <td>city</td>\n",
       "      <td>2.0</td>\n",
       "      <td>10000-10002-803279</td>\n",
       "      <td>10000-10002</td>\n",
       "      <td>803279</td>\n",
       "      <td>Gravity Main-Clean</td>\n",
       "      <td>NaN</td>\n",
       "      <td>2021-01-10 10:30:00</td>\n",
       "      <td>NaN</td>\n",
       "      <td>NaN</td>\n",
       "      <td>...</td>\n",
       "      <td>NaN</td>\n",
       "      <td>2.335</td>\n",
       "      <td>2</td>\n",
       "      <td>OLD</td>\n",
       "      <td>0</td>\n",
       "      <td>NO</td>\n",
       "      <td>NO</td>\n",
       "      <td>-</td>\n",
       "      <td>NO</td>\n",
       "      <td>42147.0</td>\n",
       "    </tr>\n",
       "    <tr>\n",
       "      <th>2</th>\n",
       "      <td>cass</td>\n",
       "      <td>1.0</td>\n",
       "      <td>1000-1000M-20153596301</td>\n",
       "      <td>1000-1000M</td>\n",
       "      <td>20153596301</td>\n",
       "      <td>SLRAT</td>\n",
       "      <td>1.0</td>\n",
       "      <td>2015-12-05 00:00:00</td>\n",
       "      <td>SLRAT</td>\n",
       "      <td>2.0</td>\n",
       "      <td>...</td>\n",
       "      <td>0.0</td>\n",
       "      <td>5.620</td>\n",
       "      <td>5</td>\n",
       "      <td>NEW</td>\n",
       "      <td>1</td>\n",
       "      <td>NO</td>\n",
       "      <td>YES</td>\n",
       "      <td>1000-1000M</td>\n",
       "      <td>YES</td>\n",
       "      <td>3196.0</td>\n",
       "    </tr>\n",
       "    <tr>\n",
       "      <th>3</th>\n",
       "      <td>cass</td>\n",
       "      <td>2.0</td>\n",
       "      <td>1000-1000M-20179954401</td>\n",
       "      <td>1000-1000M</td>\n",
       "      <td>20179954401</td>\n",
       "      <td>SLRAT</td>\n",
       "      <td>1.0</td>\n",
       "      <td>2017-10-26 00:00:00</td>\n",
       "      <td>SLRAT</td>\n",
       "      <td>0.0</td>\n",
       "      <td>...</td>\n",
       "      <td>0.0</td>\n",
       "      <td>5.620</td>\n",
       "      <td>5</td>\n",
       "      <td>OLD</td>\n",
       "      <td>1</td>\n",
       "      <td>YES</td>\n",
       "      <td>NO</td>\n",
       "      <td>1000-1000M</td>\n",
       "      <td>NaN</td>\n",
       "      <td>NaN</td>\n",
       "    </tr>\n",
       "    <tr>\n",
       "      <th>4</th>\n",
       "      <td>city</td>\n",
       "      <td>1.0</td>\n",
       "      <td>10002-9995-790387</td>\n",
       "      <td>10002-9995</td>\n",
       "      <td>790387</td>\n",
       "      <td>Gravity Main-SLRAT</td>\n",
       "      <td>1.0</td>\n",
       "      <td>2020-11-16 09:30:00</td>\n",
       "      <td>SLRAT</td>\n",
       "      <td>0.0</td>\n",
       "      <td>...</td>\n",
       "      <td>0.0</td>\n",
       "      <td>2.435</td>\n",
       "      <td>2</td>\n",
       "      <td>NEW</td>\n",
       "      <td>1</td>\n",
       "      <td>NO</td>\n",
       "      <td>NO</td>\n",
       "      <td>-</td>\n",
       "      <td>NaN</td>\n",
       "      <td>NaN</td>\n",
       "    </tr>\n",
       "  </tbody>\n",
       "</table>\n",
       "<p>5 rows × 22 columns</p>\n",
       "</div>"
      ],
      "text/plain": [
       "  source   rk                      PK   FACILITYID WORK_ORDER_NO  \\\n",
       "0   city  1.0      10000-10002-790381  10000-10002        790381   \n",
       "1   city  2.0      10000-10002-803279  10000-10002        803279   \n",
       "2   cass  1.0  1000-1000M-20153596301   1000-1000M   20153596301   \n",
       "3   cass  2.0  1000-1000M-20179954401   1000-1000M   20179954401   \n",
       "4   city  1.0       10002-9995-790387   10002-9995        790387   \n",
       "\n",
       "        ACTIVITY_CODE  activitycode rk      COMPLETED_DATE slrat only  \\\n",
       "0  Gravity Main-SLRAT              1.0 2020-11-16 09:00:00      SLRAT   \n",
       "1  Gravity Main-Clean              NaN 2021-01-10 10:30:00        NaN   \n",
       "2               SLRAT              1.0 2015-12-05 00:00:00      SLRAT   \n",
       "3               SLRAT              1.0 2017-10-26 00:00:00      SLRAT   \n",
       "4  Gravity Main-SLRAT              1.0 2020-11-16 09:30:00      SLRAT   \n",
       "\n",
       "   SLRAT_SCORE  ...  rk change    COF  FACILITYID Count  New Asset  \\\n",
       "0          0.0  ...        0.0  2.335                 2        NEW   \n",
       "1          NaN  ...        NaN  2.335                 2        OLD   \n",
       "2          2.0  ...        0.0  5.620                 5        NEW   \n",
       "3          0.0  ...        0.0  5.620                 5        OLD   \n",
       "4          0.0  ...        0.0  2.435                 2        NEW   \n",
       "\n",
       "   ActivityCode lookup Candidate  Predec. Candidate        Copy Unnamed: 20  \\\n",
       "0                    1        NO                 NO           -         NaN   \n",
       "1                    0        NO                 NO           -          NO   \n",
       "2                    1        NO                YES  1000-1000M         YES   \n",
       "3                    1       YES                 NO  1000-1000M         NaN   \n",
       "4                    1        NO                 NO           -         NaN   \n",
       "\n",
       "  Unnamed: 21  \n",
       "0         NaN  \n",
       "1     42147.0  \n",
       "2      3196.0  \n",
       "3         NaN  \n",
       "4         NaN  \n",
       "\n",
       "[5 rows x 22 columns]"
      ]
     },
     "execution_count": 214,
     "metadata": {},
     "output_type": "execute_result"
    }
   ],
   "source": [
    "# read the SLRAT data \n",
    "df= pd.read_excel('SLRAT_analysis.xlsx')\n",
    "\n",
    "needed_rows = ['SLRAT' in x or 'Clean' in x for x in df['ACTIVITY_CODE']]\n",
    "df = df[needed_rows].reset_index(drop=True).copy()\n",
    "df.head()"
   ]
  },
  {
   "cell_type": "markdown",
   "metadata": {},
   "source": [
    "### Check for missing values and datatypes\n"
   ]
  },
  {
   "cell_type": "code",
   "execution_count": 42,
   "metadata": {
    "id": "Ks1d2s68_v7T"
   },
   "outputs": [
    {
     "name": "stdout",
     "output_type": "stream",
     "text": [
      "<class 'pandas.core.frame.DataFrame'>\n",
      "RangeIndex: 33807 entries, 0 to 33806\n",
      "Data columns (total 22 columns):\n",
      " #   Column               Non-Null Count  Dtype         \n",
      "---  ------               --------------  -----         \n",
      " 0   source               33807 non-null  object        \n",
      " 1   rk                   33800 non-null  float64       \n",
      " 2   PK                   33807 non-null  object        \n",
      " 3   FACILITYID           33807 non-null  object        \n",
      " 4   WORK_ORDER_NO        33807 non-null  object        \n",
      " 5   ACTIVITY_CODE        33807 non-null  object        \n",
      " 6   activitycode rk      33359 non-null  float64       \n",
      " 7   COMPLETED_DATE       33807 non-null  datetime64[ns]\n",
      " 8   slrat only           33359 non-null  object        \n",
      " 9   SLRAT_SCORE          33359 non-null  float64       \n",
      " 10  score change         33359 non-null  float64       \n",
      " 11  day change           33359 non-null  float64       \n",
      " 12  rk change            33359 non-null  float64       \n",
      " 13  COF                  33737 non-null  float64       \n",
      " 14  FACILITYID Count     33807 non-null  int64         \n",
      " 15  New Asset            33807 non-null  object        \n",
      " 16  ActivityCode lookup  33807 non-null  int64         \n",
      " 17  Candidate            33807 non-null  object        \n",
      " 18  Predec. Candidate    33807 non-null  object        \n",
      " 19  Copy                 33807 non-null  object        \n",
      " 20  Unnamed: 20          2 non-null      object        \n",
      " 21  Unnamed: 21          2 non-null      float64       \n",
      "dtypes: datetime64[ns](1), float64(8), int64(2), object(11)\n",
      "memory usage: 5.7+ MB\n"
     ]
    }
   ],
   "source": [
    "df.info()"
   ]
  },
  {
   "cell_type": "code",
   "execution_count": 216,
   "metadata": {
    "id": "R0jaGbSPwNss"
   },
   "outputs": [],
   "source": [
    "#Select necessary columns from SL-RAT file\n",
    "columns= ['FACILITYID','COMPLETED_DATE', 'SLRAT_SCORE']"
   ]
  },
  {
   "cell_type": "code",
   "execution_count": 217,
   "metadata": {},
   "outputs": [],
   "source": [
    "df=df[columns]"
   ]
  },
  {
   "cell_type": "code",
   "execution_count": 220,
   "metadata": {
    "colab": {
     "base_uri": "https://localhost:8080/",
     "height": 206
    },
    "id": "ufL1VmpLrIlU",
    "outputId": "52c3ff78-3304-4d68-e6e3-cfef5fef80ff"
   },
   "outputs": [
    {
     "data": {
      "text/html": [
       "<div>\n",
       "<style scoped>\n",
       "    .dataframe tbody tr th:only-of-type {\n",
       "        vertical-align: middle;\n",
       "    }\n",
       "\n",
       "    .dataframe tbody tr th {\n",
       "        vertical-align: top;\n",
       "    }\n",
       "\n",
       "    .dataframe thead th {\n",
       "        text-align: right;\n",
       "    }\n",
       "</style>\n",
       "<table border=\"1\" class=\"dataframe\">\n",
       "  <thead>\n",
       "    <tr style=\"text-align: right;\">\n",
       "      <th></th>\n",
       "      <th>FACILITYID</th>\n",
       "      <th>COMPLETED_DATE</th>\n",
       "      <th>SLRAT_SCORE</th>\n",
       "    </tr>\n",
       "  </thead>\n",
       "  <tbody>\n",
       "    <tr>\n",
       "      <th>0</th>\n",
       "      <td>10000-10002</td>\n",
       "      <td>2020-11-16 09:00:00</td>\n",
       "      <td>0.0</td>\n",
       "    </tr>\n",
       "    <tr>\n",
       "      <th>1</th>\n",
       "      <td>10000-10002</td>\n",
       "      <td>2021-01-10 10:30:00</td>\n",
       "      <td>NaN</td>\n",
       "    </tr>\n",
       "    <tr>\n",
       "      <th>2</th>\n",
       "      <td>1000-1000M</td>\n",
       "      <td>2015-12-05 00:00:00</td>\n",
       "      <td>2.0</td>\n",
       "    </tr>\n",
       "    <tr>\n",
       "      <th>3</th>\n",
       "      <td>1000-1000M</td>\n",
       "      <td>2017-10-26 00:00:00</td>\n",
       "      <td>0.0</td>\n",
       "    </tr>\n",
       "    <tr>\n",
       "      <th>4</th>\n",
       "      <td>10002-9995</td>\n",
       "      <td>2020-11-16 09:30:00</td>\n",
       "      <td>0.0</td>\n",
       "    </tr>\n",
       "  </tbody>\n",
       "</table>\n",
       "</div>"
      ],
      "text/plain": [
       "    FACILITYID      COMPLETED_DATE  SLRAT_SCORE\n",
       "0  10000-10002 2020-11-16 09:00:00          0.0\n",
       "1  10000-10002 2021-01-10 10:30:00          NaN\n",
       "2   1000-1000M 2015-12-05 00:00:00          2.0\n",
       "3   1000-1000M 2017-10-26 00:00:00          0.0\n",
       "4   10002-9995 2020-11-16 09:30:00          0.0"
      ]
     },
     "execution_count": 220,
     "metadata": {},
     "output_type": "execute_result"
    }
   ],
   "source": [
    "df.head()"
   ]
  },
  {
   "cell_type": "code",
   "execution_count": 221,
   "metadata": {},
   "outputs": [
    {
     "name": "stdout",
     "output_type": "stream",
     "text": [
      "<class 'pandas.core.frame.DataFrame'>\n",
      "RangeIndex: 33807 entries, 0 to 33806\n",
      "Data columns (total 3 columns):\n",
      " #   Column          Non-Null Count  Dtype         \n",
      "---  ------          --------------  -----         \n",
      " 0   FACILITYID      33807 non-null  object        \n",
      " 1   COMPLETED_DATE  33807 non-null  datetime64[ns]\n",
      " 2   SLRAT_SCORE     33359 non-null  float64       \n",
      "dtypes: datetime64[ns](1), float64(1), object(1)\n",
      "memory usage: 792.5+ KB\n"
     ]
    }
   ],
   "source": [
    "df.info()"
   ]
  },
  {
   "cell_type": "markdown",
   "metadata": {},
   "source": [
    "Let's explore the data!"
   ]
  },
  {
   "cell_type": "code",
   "execution_count": 222,
   "metadata": {},
   "outputs": [
    {
     "data": {
      "text/html": [
       "<div>\n",
       "<style scoped>\n",
       "    .dataframe tbody tr th:only-of-type {\n",
       "        vertical-align: middle;\n",
       "    }\n",
       "\n",
       "    .dataframe tbody tr th {\n",
       "        vertical-align: top;\n",
       "    }\n",
       "\n",
       "    .dataframe thead th {\n",
       "        text-align: right;\n",
       "    }\n",
       "</style>\n",
       "<table border=\"1\" class=\"dataframe\">\n",
       "  <thead>\n",
       "    <tr style=\"text-align: right;\">\n",
       "      <th></th>\n",
       "      <th>FACILITYID</th>\n",
       "      <th>COMPLETED_DATE</th>\n",
       "      <th>SLRAT_SCORE</th>\n",
       "    </tr>\n",
       "  </thead>\n",
       "  <tbody>\n",
       "    <tr>\n",
       "      <th>0</th>\n",
       "      <td>1000-1000M</td>\n",
       "      <td>2015-12-05 00:00:00</td>\n",
       "      <td>2.0</td>\n",
       "    </tr>\n",
       "    <tr>\n",
       "      <th>1</th>\n",
       "      <td>1000-1000M</td>\n",
       "      <td>2017-10-26 00:00:00</td>\n",
       "      <td>0.0</td>\n",
       "    </tr>\n",
       "    <tr>\n",
       "      <th>2</th>\n",
       "      <td>10000-10002</td>\n",
       "      <td>2020-11-16 09:00:00</td>\n",
       "      <td>0.0</td>\n",
       "    </tr>\n",
       "    <tr>\n",
       "      <th>3</th>\n",
       "      <td>10000-10002</td>\n",
       "      <td>2021-01-10 10:30:00</td>\n",
       "      <td>NaN</td>\n",
       "    </tr>\n",
       "    <tr>\n",
       "      <th>4</th>\n",
       "      <td>10002-9995</td>\n",
       "      <td>2020-11-16 09:30:00</td>\n",
       "      <td>0.0</td>\n",
       "    </tr>\n",
       "    <tr>\n",
       "      <th>5</th>\n",
       "      <td>10002-9995</td>\n",
       "      <td>2021-03-16 11:30:00</td>\n",
       "      <td>NaN</td>\n",
       "    </tr>\n",
       "    <tr>\n",
       "      <th>6</th>\n",
       "      <td>10003-10004</td>\n",
       "      <td>2020-11-17 09:15:00</td>\n",
       "      <td>0.0</td>\n",
       "    </tr>\n",
       "    <tr>\n",
       "      <th>7</th>\n",
       "      <td>10003-10004</td>\n",
       "      <td>2021-01-10 09:00:00</td>\n",
       "      <td>NaN</td>\n",
       "    </tr>\n",
       "    <tr>\n",
       "      <th>8</th>\n",
       "      <td>10004-9986</td>\n",
       "      <td>2020-11-17 09:30:00</td>\n",
       "      <td>0.0</td>\n",
       "    </tr>\n",
       "    <tr>\n",
       "      <th>9</th>\n",
       "      <td>10004-9986</td>\n",
       "      <td>2021-03-15 10:30:00</td>\n",
       "      <td>NaN</td>\n",
       "    </tr>\n",
       "    <tr>\n",
       "      <th>10</th>\n",
       "      <td>10005-10006</td>\n",
       "      <td>2020-11-16 11:30:00</td>\n",
       "      <td>0.0</td>\n",
       "    </tr>\n",
       "    <tr>\n",
       "      <th>11</th>\n",
       "      <td>10005-10006</td>\n",
       "      <td>2021-03-16 11:00:00</td>\n",
       "      <td>NaN</td>\n",
       "    </tr>\n",
       "    <tr>\n",
       "      <th>12</th>\n",
       "      <td>10006-9990</td>\n",
       "      <td>2020-11-16 11:15:00</td>\n",
       "      <td>0.0</td>\n",
       "    </tr>\n",
       "    <tr>\n",
       "      <th>13</th>\n",
       "      <td>10006-9990</td>\n",
       "      <td>2021-01-04 11:30:00</td>\n",
       "      <td>NaN</td>\n",
       "    </tr>\n",
       "    <tr>\n",
       "      <th>14</th>\n",
       "      <td>10007-10008</td>\n",
       "      <td>2020-11-16 10:45:00</td>\n",
       "      <td>5.0</td>\n",
       "    </tr>\n",
       "  </tbody>\n",
       "</table>\n",
       "</div>"
      ],
      "text/plain": [
       "     FACILITYID      COMPLETED_DATE  SLRAT_SCORE\n",
       "0    1000-1000M 2015-12-05 00:00:00          2.0\n",
       "1    1000-1000M 2017-10-26 00:00:00          0.0\n",
       "2   10000-10002 2020-11-16 09:00:00          0.0\n",
       "3   10000-10002 2021-01-10 10:30:00          NaN\n",
       "4    10002-9995 2020-11-16 09:30:00          0.0\n",
       "5    10002-9995 2021-03-16 11:30:00          NaN\n",
       "6   10003-10004 2020-11-17 09:15:00          0.0\n",
       "7   10003-10004 2021-01-10 09:00:00          NaN\n",
       "8    10004-9986 2020-11-17 09:30:00          0.0\n",
       "9    10004-9986 2021-03-15 10:30:00          NaN\n",
       "10  10005-10006 2020-11-16 11:30:00          0.0\n",
       "11  10005-10006 2021-03-16 11:00:00          NaN\n",
       "12   10006-9990 2020-11-16 11:15:00          0.0\n",
       "13   10006-9990 2021-01-04 11:30:00          NaN\n",
       "14  10007-10008 2020-11-16 10:45:00          5.0"
      ]
     },
     "execution_count": 222,
     "metadata": {},
     "output_type": "execute_result"
    }
   ],
   "source": [
    "df = df.sort_values(by=['FACILITYID','COMPLETED_DATE']).reset_index(drop=True).copy()\n",
    "df.head(15)"
   ]
  },
  {
   "cell_type": "markdown",
   "metadata": {},
   "source": [
    "### Removal of Unnecessary Data"
   ]
  },
  {
   "cell_type": "markdown",
   "metadata": {},
   "source": [
    "We need only sl-rat scores that occur more than once."
   ]
  },
  {
   "cell_type": "code",
   "execution_count": 223,
   "metadata": {},
   "outputs": [],
   "source": [
    "# Adding&removing rk column to get rid of the unnecessary sl-rat scores\n",
    "counts = df.FACILITYID.value_counts().to_dict()\n",
    "\n",
    "df['rk'] = [counts[x] for x in df.FACILITYID]\n",
    "\n",
    "df = df[df.rk > 1].reset_index(drop=True).copy()\n",
    "df.drop('rk', axis=1, inplace=True)"
   ]
  },
  {
   "cell_type": "code",
   "execution_count": 224,
   "metadata": {
    "colab": {
     "base_uri": "https://localhost:8080/"
    },
    "id": "ZPLle1d8sg-Z",
    "outputId": "9fdd61a7-6959-4a57-dda5-f46f10dfc492"
   },
   "outputs": [
    {
     "name": "stdout",
     "output_type": "stream",
     "text": [
      "<class 'pandas.core.frame.DataFrame'>\n",
      "RangeIndex: 9355 entries, 0 to 9354\n",
      "Data columns (total 3 columns):\n",
      " #   Column          Non-Null Count  Dtype         \n",
      "---  ------          --------------  -----         \n",
      " 0   FACILITYID      9355 non-null   object        \n",
      " 1   COMPLETED_DATE  9355 non-null   datetime64[ns]\n",
      " 2   SLRAT_SCORE     8907 non-null   float64       \n",
      "dtypes: datetime64[ns](1), float64(1), object(1)\n",
      "memory usage: 219.4+ KB\n"
     ]
    }
   ],
   "source": [
    "df.info()"
   ]
  },
  {
   "cell_type": "code",
   "execution_count": 225,
   "metadata": {},
   "outputs": [
    {
     "data": {
      "text/plain": [
       "(9355, 3)"
      ]
     },
     "execution_count": 225,
     "metadata": {},
     "output_type": "execute_result"
    }
   ],
   "source": [
    "df.shape"
   ]
  },
  {
   "cell_type": "code",
   "execution_count": 226,
   "metadata": {},
   "outputs": [
    {
     "data": {
      "text/plain": [
       "-691"
      ]
     },
     "execution_count": 226,
     "metadata": {},
     "output_type": "execute_result"
    }
   ],
   "source": [
    "(df.COMPLETED_DATE[0] - df.COMPLETED_DATE[1]).days"
   ]
  },
  {
   "cell_type": "code",
   "execution_count": 91,
   "metadata": {},
   "outputs": [
    {
     "name": "stdout",
     "output_type": "stream",
     "text": [
      "2.0\n"
     ]
    }
   ],
   "source": [
    "for i, x in df.head().iterrows():\n",
    "    print (x.SLRAT_SCORE)\n",
    "    break"
   ]
  },
  {
   "cell_type": "code",
   "execution_count": 212,
   "metadata": {},
   "outputs": [],
   "source": [
    "import numpy as np\n",
    "def agg_func(x):\n",
    "    \"\"\"\n",
    "    I have made an assumption here. \n",
    "    it may have many records and on multiple records, pipes may have been cleaned in between.\n",
    "    so I checked only the first 2 occurance and calculated the rate.\n",
    "    eg: first rate 9  on March 1\n",
    "    second rate 7 on March 15\n",
    "    I calculated the rate by (7 - 9) / 30 \n",
    "    \n",
    "    if rate is positive, I used none because probably it is cleaned and I cannot calculate the rate\n",
    "    \"\"\"\n",
    "#     print(x)\n",
    "    x = x[~x.SLRAT_SCORE.isna()]\n",
    "    if len(x) < 2:\n",
    "        return None\n",
    "    \n",
    "    sc = list(x.SLRAT_SCORE)\n",
    "    dt = list(x.COMPLETED_DATE)\n",
    "\n",
    "    if pd.isna(sc[1]) or pd.isna(sc[0]):\n",
    "        return None\n",
    "    \n",
    "    if sc[1] >= sc[0]:\n",
    "        return None\n",
    "    \n",
    "    days = (dt[1] - dt[0]).days\n",
    "    if days == 0:\n",
    "        return None\n",
    "    \n",
    "    return (sc[1] - sc[0]) / days"
   ]
  },
  {
   "cell_type": "code",
   "execution_count": 166,
   "metadata": {
    "scrolled": false
   },
   "outputs": [
    {
     "data": {
      "text/plain": [
       "FACILITYID\n",
       "1000-1000M    -0.002894\n",
       "10000-10002         NaN\n",
       "10002-9995          NaN\n",
       "10003-10004         NaN\n",
       "10004-9986          NaN\n",
       "                 ...   \n",
       "F1890-F1889         NaN\n",
       "F1891-F1890         NaN\n",
       "F1892-F1891         NaN\n",
       "F4136-63762         NaN\n",
       "NS968-14335         NaN\n",
       "Length: 3925, dtype: float64"
      ]
     },
     "execution_count": 166,
     "metadata": {},
     "output_type": "execute_result"
    }
   ],
   "source": [
    "rate = df.groupby(by='FACILITYID').apply(agg_func)\n",
    "rate"
   ]
  },
  {
   "cell_type": "code",
   "execution_count": 174,
   "metadata": {},
   "outputs": [
    {
     "data": {
      "text/plain": [
       "1118"
      ]
     },
     "execution_count": 174,
     "metadata": {},
     "output_type": "execute_result"
    }
   ],
   "source": [
    "sum (rate < 0)"
   ]
  },
  {
   "cell_type": "code",
   "execution_count": 175,
   "metadata": {},
   "outputs": [
    {
     "data": {
      "text/plain": [
       "(1118, 2)"
      ]
     },
     "execution_count": 175,
     "metadata": {},
     "output_type": "execute_result"
    }
   ],
   "source": [
    "df_rate = pd.DataFrame()\n",
    "df_rate['FACILITYID'] = rate.index\n",
    "df_rate['rate'] = rate.values\n",
    "\n",
    "df_rate.dropna(inplace=True)\n",
    "df_rate.shape"
   ]
  },
  {
   "cell_type": "markdown",
   "metadata": {},
   "source": [
    "I'm trying to get more data."
   ]
  },
  {
   "cell_type": "code",
   "execution_count": 176,
   "metadata": {
    "id": "EMiwOhLApxqi"
   },
   "outputs": [],
   "source": [
    "#Read the data from GIS features\n",
    "df_GIS= pd.read_excel('ssGravityMain-GIS_Attributes.xlsx')"
   ]
  },
  {
   "cell_type": "code",
   "execution_count": 177,
   "metadata": {
    "colab": {
     "base_uri": "https://localhost:8080/",
     "height": 560
    },
    "id": "guGE4eesqLht",
    "outputId": "20e87e86-7a8d-4943-d813-fd6596f4b072"
   },
   "outputs": [
    {
     "data": {
      "text/html": [
       "<div>\n",
       "<style scoped>\n",
       "    .dataframe tbody tr th:only-of-type {\n",
       "        vertical-align: middle;\n",
       "    }\n",
       "\n",
       "    .dataframe tbody tr th {\n",
       "        vertical-align: top;\n",
       "    }\n",
       "\n",
       "    .dataframe thead th {\n",
       "        text-align: right;\n",
       "    }\n",
       "</style>\n",
       "<table border=\"1\" class=\"dataframe\">\n",
       "  <thead>\n",
       "    <tr style=\"text-align: right;\">\n",
       "      <th></th>\n",
       "      <th>0</th>\n",
       "      <th>1</th>\n",
       "      <th>2</th>\n",
       "      <th>3</th>\n",
       "      <th>4</th>\n",
       "    </tr>\n",
       "  </thead>\n",
       "  <tbody>\n",
       "    <tr>\n",
       "      <th>FACILITYID</th>\n",
       "      <td>42453-42452</td>\n",
       "      <td>42458-42457</td>\n",
       "      <td>42457-42452</td>\n",
       "      <td>42452-42451</td>\n",
       "      <td>42451-42450</td>\n",
       "    </tr>\n",
       "    <tr>\n",
       "      <th>TYPE</th>\n",
       "      <td>COLLECTOR</td>\n",
       "      <td>COLLECTOR</td>\n",
       "      <td>COLLECTOR</td>\n",
       "      <td>COLLECTOR</td>\n",
       "      <td>COLLECTOR</td>\n",
       "    </tr>\n",
       "    <tr>\n",
       "      <th>SEWER_SERV</th>\n",
       "      <td>83-94-00-00</td>\n",
       "      <td>83-94-00-00</td>\n",
       "      <td>83-94-00-00</td>\n",
       "      <td>83-94-00-00</td>\n",
       "      <td>83-94-00-00</td>\n",
       "    </tr>\n",
       "    <tr>\n",
       "      <th>PIPE_SIZE</th>\n",
       "      <td>8</td>\n",
       "      <td>8</td>\n",
       "      <td>8</td>\n",
       "      <td>8</td>\n",
       "      <td>8</td>\n",
       "    </tr>\n",
       "    <tr>\n",
       "      <th>PIPE_MATER</th>\n",
       "      <td>UNKNOWN</td>\n",
       "      <td>ASBESTOS CEMENT</td>\n",
       "      <td>ASBESTOS CEMENT</td>\n",
       "      <td>UNKNOWN</td>\n",
       "      <td>UNKNOWN</td>\n",
       "    </tr>\n",
       "    <tr>\n",
       "      <th>SLOPE</th>\n",
       "      <td>1.7</td>\n",
       "      <td>0.4</td>\n",
       "      <td>0.4</td>\n",
       "      <td>0.4</td>\n",
       "      <td>0.4</td>\n",
       "    </tr>\n",
       "    <tr>\n",
       "      <th>DESIGN_LEN</th>\n",
       "      <td>70.3</td>\n",
       "      <td>71.3</td>\n",
       "      <td>139.1</td>\n",
       "      <td>335.8</td>\n",
       "      <td>387.7</td>\n",
       "    </tr>\n",
       "    <tr>\n",
       "      <th>LENGTH</th>\n",
       "      <td>70.33</td>\n",
       "      <td>71.3</td>\n",
       "      <td>139.18</td>\n",
       "      <td>335.83</td>\n",
       "      <td>387.79</td>\n",
       "    </tr>\n",
       "    <tr>\n",
       "      <th>UPSTREAM_I</th>\n",
       "      <td>688.36</td>\n",
       "      <td>688.1</td>\n",
       "      <td>687.72</td>\n",
       "      <td>687.07</td>\n",
       "      <td>685.63</td>\n",
       "    </tr>\n",
       "    <tr>\n",
       "      <th>DOWNSTREAM</th>\n",
       "      <td>687.17</td>\n",
       "      <td>687.82</td>\n",
       "      <td>687.17</td>\n",
       "      <td>685.73</td>\n",
       "      <td>684.03</td>\n",
       "    </tr>\n",
       "    <tr>\n",
       "      <th>LINING_TYP</th>\n",
       "      <td>NONE</td>\n",
       "      <td>NONE</td>\n",
       "      <td>NONE</td>\n",
       "      <td>NONE</td>\n",
       "      <td>NONE</td>\n",
       "    </tr>\n",
       "    <tr>\n",
       "      <th>STORM_CONC</th>\n",
       "      <td>NO</td>\n",
       "      <td>NO</td>\n",
       "      <td>NO</td>\n",
       "      <td>NO</td>\n",
       "      <td>NO</td>\n",
       "    </tr>\n",
       "    <tr>\n",
       "      <th>COORDINATE</th>\n",
       "      <td>DIGITIZING</td>\n",
       "      <td>DIGITIZING</td>\n",
       "      <td>DIGITIZING</td>\n",
       "      <td>DIGITIZING</td>\n",
       "      <td>DIGITIZING</td>\n",
       "    </tr>\n",
       "    <tr>\n",
       "      <th>LIFECYCLE_</th>\n",
       "      <td>ACTIVE</td>\n",
       "      <td>ACTIVE</td>\n",
       "      <td>ACTIVE</td>\n",
       "      <td>ACTIVE</td>\n",
       "      <td>ACTIVE</td>\n",
       "    </tr>\n",
       "    <tr>\n",
       "      <th>LOCATION</th>\n",
       "      <td>NaN</td>\n",
       "      <td>NaN</td>\n",
       "      <td>NaN</td>\n",
       "      <td>NaN</td>\n",
       "      <td>NaN</td>\n",
       "    </tr>\n",
       "    <tr>\n",
       "      <th>OWNED_BY</th>\n",
       "      <td>COUNTY</td>\n",
       "      <td>COUNTY</td>\n",
       "      <td>COUNTY</td>\n",
       "      <td>COUNTY</td>\n",
       "      <td>COUNTY</td>\n",
       "    </tr>\n",
       "    <tr>\n",
       "      <th>MAINTAINED</th>\n",
       "      <td>COUNTY</td>\n",
       "      <td>COUNTY</td>\n",
       "      <td>COUNTY</td>\n",
       "      <td>COUNTY</td>\n",
       "      <td>COUNTY</td>\n",
       "    </tr>\n",
       "    <tr>\n",
       "      <th>RESPONSIBL</th>\n",
       "      <td>DEPARTMENT OF PUBLIC WORKS</td>\n",
       "      <td>DEPARTMENT OF PUBLIC WORKS</td>\n",
       "      <td>DEPARTMENT OF PUBLIC WORKS</td>\n",
       "      <td>DEPARTMENT OF PUBLIC WORKS</td>\n",
       "      <td>DEPARTMENT OF PUBLIC WORKS</td>\n",
       "    </tr>\n",
       "    <tr>\n",
       "      <th>CONDITION</th>\n",
       "      <td>0</td>\n",
       "      <td>0</td>\n",
       "      <td>0</td>\n",
       "      <td>0</td>\n",
       "      <td>0</td>\n",
       "    </tr>\n",
       "    <tr>\n",
       "      <th>CONDITION_</th>\n",
       "      <td>NaN</td>\n",
       "      <td>NaN</td>\n",
       "      <td>NaN</td>\n",
       "      <td>NaN</td>\n",
       "      <td>NaN</td>\n",
       "    </tr>\n",
       "    <tr>\n",
       "      <th>INSTALL_DA</th>\n",
       "      <td>1970-01-01 00:00:00</td>\n",
       "      <td>1970-01-01 00:00:00</td>\n",
       "      <td>1970-01-01 00:00:00</td>\n",
       "      <td>1970-01-01 00:00:00</td>\n",
       "      <td>1970-01-01 00:00:00</td>\n",
       "    </tr>\n",
       "    <tr>\n",
       "      <th>WARRANTY_D</th>\n",
       "      <td>NaN</td>\n",
       "      <td>NaN</td>\n",
       "      <td>NaN</td>\n",
       "      <td>NaN</td>\n",
       "      <td>NaN</td>\n",
       "    </tr>\n",
       "    <tr>\n",
       "      <th>REHABILITA</th>\n",
       "      <td>NaT</td>\n",
       "      <td>NaT</td>\n",
       "      <td>NaT</td>\n",
       "      <td>NaT</td>\n",
       "      <td>NaT</td>\n",
       "    </tr>\n",
       "    <tr>\n",
       "      <th>REHABILI_1</th>\n",
       "      <td>NaN</td>\n",
       "      <td>NaN</td>\n",
       "      <td>NaN</td>\n",
       "      <td>NaN</td>\n",
       "      <td>NaN</td>\n",
       "    </tr>\n",
       "    <tr>\n",
       "      <th>NOTES</th>\n",
       "      <td>NaN</td>\n",
       "      <td>NaN</td>\n",
       "      <td>NaN</td>\n",
       "      <td>NaN</td>\n",
       "      <td>NaN</td>\n",
       "    </tr>\n",
       "    <tr>\n",
       "      <th>CREATED_US</th>\n",
       "      <td>stevesmith</td>\n",
       "      <td>stevesmith</td>\n",
       "      <td>stevesmith</td>\n",
       "      <td>stevesmith</td>\n",
       "      <td>stevesmith</td>\n",
       "    </tr>\n",
       "    <tr>\n",
       "      <th>CREATED_DA</th>\n",
       "      <td>2015-09-03 00:00:00</td>\n",
       "      <td>2015-09-03 00:00:00</td>\n",
       "      <td>2015-09-03 00:00:00</td>\n",
       "      <td>2015-09-03 00:00:00</td>\n",
       "      <td>2015-09-03 00:00:00</td>\n",
       "    </tr>\n",
       "    <tr>\n",
       "      <th>LAST_EDITE</th>\n",
       "      <td>stevesmith</td>\n",
       "      <td>stevesmith</td>\n",
       "      <td>stevesmith</td>\n",
       "      <td>stevesmith</td>\n",
       "      <td>stevesmith</td>\n",
       "    </tr>\n",
       "    <tr>\n",
       "      <th>LAST_EDI_1</th>\n",
       "      <td>2015-09-03 00:00:00</td>\n",
       "      <td>2015-09-03 00:00:00</td>\n",
       "      <td>2015-09-03 00:00:00</td>\n",
       "      <td>2015-09-03 00:00:00</td>\n",
       "      <td>2015-09-03 00:00:00</td>\n",
       "    </tr>\n",
       "    <tr>\n",
       "      <th>GLOBALID</th>\n",
       "      <td>{99358FA6-1847-431F-869A-12341DB1F093}</td>\n",
       "      <td>{3F356ABF-33D7-463B-8502-4A5C4C352B0C}</td>\n",
       "      <td>{98C04947-F754-487E-8794-A29FC72B13BE}</td>\n",
       "      <td>{25338C76-0A56-4E0F-8493-93E91B0EA770}</td>\n",
       "      <td>{6D977270-4965-41DF-A19C-CDB5924BD2F9}</td>\n",
       "    </tr>\n",
       "    <tr>\n",
       "      <th>ENABLED</th>\n",
       "      <td>1</td>\n",
       "      <td>1</td>\n",
       "      <td>1</td>\n",
       "      <td>1</td>\n",
       "      <td>1</td>\n",
       "    </tr>\n",
       "    <tr>\n",
       "      <th>JETTER</th>\n",
       "      <td>NaN</td>\n",
       "      <td>NaN</td>\n",
       "      <td>NaN</td>\n",
       "      <td>NaN</td>\n",
       "      <td>NaN</td>\n",
       "    </tr>\n",
       "    <tr>\n",
       "      <th>SHAPE_LEN</th>\n",
       "      <td>70.32951</td>\n",
       "      <td>71.302674</td>\n",
       "      <td>139.176544</td>\n",
       "      <td>335.831233</td>\n",
       "      <td>387.790553</td>\n",
       "    </tr>\n",
       "  </tbody>\n",
       "</table>\n",
       "</div>"
      ],
      "text/plain": [
       "                                                 0  \\\n",
       "FACILITYID                             42453-42452   \n",
       "TYPE                                     COLLECTOR   \n",
       "SEWER_SERV                             83-94-00-00   \n",
       "PIPE_SIZE                                        8   \n",
       "PIPE_MATER                                 UNKNOWN   \n",
       "SLOPE                                          1.7   \n",
       "DESIGN_LEN                                    70.3   \n",
       "LENGTH                                       70.33   \n",
       "UPSTREAM_I                                  688.36   \n",
       "DOWNSTREAM                                  687.17   \n",
       "LINING_TYP                                    NONE   \n",
       "STORM_CONC                                      NO   \n",
       "COORDINATE                              DIGITIZING   \n",
       "LIFECYCLE_                                  ACTIVE   \n",
       "LOCATION                                       NaN   \n",
       "OWNED_BY                                    COUNTY   \n",
       "MAINTAINED                                  COUNTY   \n",
       "RESPONSIBL              DEPARTMENT OF PUBLIC WORKS   \n",
       "CONDITION                                        0   \n",
       "CONDITION_                                     NaN   \n",
       "INSTALL_DA                     1970-01-01 00:00:00   \n",
       "WARRANTY_D                                     NaN   \n",
       "REHABILITA                                     NaT   \n",
       "REHABILI_1                                     NaN   \n",
       "NOTES                                          NaN   \n",
       "CREATED_US                              stevesmith   \n",
       "CREATED_DA                     2015-09-03 00:00:00   \n",
       "LAST_EDITE                              stevesmith   \n",
       "LAST_EDI_1                     2015-09-03 00:00:00   \n",
       "GLOBALID    {99358FA6-1847-431F-869A-12341DB1F093}   \n",
       "ENABLED                                          1   \n",
       "JETTER                                         NaN   \n",
       "SHAPE_LEN                                 70.32951   \n",
       "\n",
       "                                                 1  \\\n",
       "FACILITYID                             42458-42457   \n",
       "TYPE                                     COLLECTOR   \n",
       "SEWER_SERV                             83-94-00-00   \n",
       "PIPE_SIZE                                        8   \n",
       "PIPE_MATER                         ASBESTOS CEMENT   \n",
       "SLOPE                                          0.4   \n",
       "DESIGN_LEN                                    71.3   \n",
       "LENGTH                                        71.3   \n",
       "UPSTREAM_I                                   688.1   \n",
       "DOWNSTREAM                                  687.82   \n",
       "LINING_TYP                                    NONE   \n",
       "STORM_CONC                                      NO   \n",
       "COORDINATE                              DIGITIZING   \n",
       "LIFECYCLE_                                  ACTIVE   \n",
       "LOCATION                                       NaN   \n",
       "OWNED_BY                                    COUNTY   \n",
       "MAINTAINED                                  COUNTY   \n",
       "RESPONSIBL              DEPARTMENT OF PUBLIC WORKS   \n",
       "CONDITION                                        0   \n",
       "CONDITION_                                     NaN   \n",
       "INSTALL_DA                     1970-01-01 00:00:00   \n",
       "WARRANTY_D                                     NaN   \n",
       "REHABILITA                                     NaT   \n",
       "REHABILI_1                                     NaN   \n",
       "NOTES                                          NaN   \n",
       "CREATED_US                              stevesmith   \n",
       "CREATED_DA                     2015-09-03 00:00:00   \n",
       "LAST_EDITE                              stevesmith   \n",
       "LAST_EDI_1                     2015-09-03 00:00:00   \n",
       "GLOBALID    {3F356ABF-33D7-463B-8502-4A5C4C352B0C}   \n",
       "ENABLED                                          1   \n",
       "JETTER                                         NaN   \n",
       "SHAPE_LEN                                71.302674   \n",
       "\n",
       "                                                 2  \\\n",
       "FACILITYID                             42457-42452   \n",
       "TYPE                                     COLLECTOR   \n",
       "SEWER_SERV                             83-94-00-00   \n",
       "PIPE_SIZE                                        8   \n",
       "PIPE_MATER                         ASBESTOS CEMENT   \n",
       "SLOPE                                          0.4   \n",
       "DESIGN_LEN                                   139.1   \n",
       "LENGTH                                      139.18   \n",
       "UPSTREAM_I                                  687.72   \n",
       "DOWNSTREAM                                  687.17   \n",
       "LINING_TYP                                    NONE   \n",
       "STORM_CONC                                      NO   \n",
       "COORDINATE                              DIGITIZING   \n",
       "LIFECYCLE_                                  ACTIVE   \n",
       "LOCATION                                       NaN   \n",
       "OWNED_BY                                    COUNTY   \n",
       "MAINTAINED                                  COUNTY   \n",
       "RESPONSIBL              DEPARTMENT OF PUBLIC WORKS   \n",
       "CONDITION                                        0   \n",
       "CONDITION_                                     NaN   \n",
       "INSTALL_DA                     1970-01-01 00:00:00   \n",
       "WARRANTY_D                                     NaN   \n",
       "REHABILITA                                     NaT   \n",
       "REHABILI_1                                     NaN   \n",
       "NOTES                                          NaN   \n",
       "CREATED_US                              stevesmith   \n",
       "CREATED_DA                     2015-09-03 00:00:00   \n",
       "LAST_EDITE                              stevesmith   \n",
       "LAST_EDI_1                     2015-09-03 00:00:00   \n",
       "GLOBALID    {98C04947-F754-487E-8794-A29FC72B13BE}   \n",
       "ENABLED                                          1   \n",
       "JETTER                                         NaN   \n",
       "SHAPE_LEN                               139.176544   \n",
       "\n",
       "                                                 3  \\\n",
       "FACILITYID                             42452-42451   \n",
       "TYPE                                     COLLECTOR   \n",
       "SEWER_SERV                             83-94-00-00   \n",
       "PIPE_SIZE                                        8   \n",
       "PIPE_MATER                                 UNKNOWN   \n",
       "SLOPE                                          0.4   \n",
       "DESIGN_LEN                                   335.8   \n",
       "LENGTH                                      335.83   \n",
       "UPSTREAM_I                                  687.07   \n",
       "DOWNSTREAM                                  685.73   \n",
       "LINING_TYP                                    NONE   \n",
       "STORM_CONC                                      NO   \n",
       "COORDINATE                              DIGITIZING   \n",
       "LIFECYCLE_                                  ACTIVE   \n",
       "LOCATION                                       NaN   \n",
       "OWNED_BY                                    COUNTY   \n",
       "MAINTAINED                                  COUNTY   \n",
       "RESPONSIBL              DEPARTMENT OF PUBLIC WORKS   \n",
       "CONDITION                                        0   \n",
       "CONDITION_                                     NaN   \n",
       "INSTALL_DA                     1970-01-01 00:00:00   \n",
       "WARRANTY_D                                     NaN   \n",
       "REHABILITA                                     NaT   \n",
       "REHABILI_1                                     NaN   \n",
       "NOTES                                          NaN   \n",
       "CREATED_US                              stevesmith   \n",
       "CREATED_DA                     2015-09-03 00:00:00   \n",
       "LAST_EDITE                              stevesmith   \n",
       "LAST_EDI_1                     2015-09-03 00:00:00   \n",
       "GLOBALID    {25338C76-0A56-4E0F-8493-93E91B0EA770}   \n",
       "ENABLED                                          1   \n",
       "JETTER                                         NaN   \n",
       "SHAPE_LEN                               335.831233   \n",
       "\n",
       "                                                 4  \n",
       "FACILITYID                             42451-42450  \n",
       "TYPE                                     COLLECTOR  \n",
       "SEWER_SERV                             83-94-00-00  \n",
       "PIPE_SIZE                                        8  \n",
       "PIPE_MATER                                 UNKNOWN  \n",
       "SLOPE                                          0.4  \n",
       "DESIGN_LEN                                   387.7  \n",
       "LENGTH                                      387.79  \n",
       "UPSTREAM_I                                  685.63  \n",
       "DOWNSTREAM                                  684.03  \n",
       "LINING_TYP                                    NONE  \n",
       "STORM_CONC                                      NO  \n",
       "COORDINATE                              DIGITIZING  \n",
       "LIFECYCLE_                                  ACTIVE  \n",
       "LOCATION                                       NaN  \n",
       "OWNED_BY                                    COUNTY  \n",
       "MAINTAINED                                  COUNTY  \n",
       "RESPONSIBL              DEPARTMENT OF PUBLIC WORKS  \n",
       "CONDITION                                        0  \n",
       "CONDITION_                                     NaN  \n",
       "INSTALL_DA                     1970-01-01 00:00:00  \n",
       "WARRANTY_D                                     NaN  \n",
       "REHABILITA                                     NaT  \n",
       "REHABILI_1                                     NaN  \n",
       "NOTES                                          NaN  \n",
       "CREATED_US                              stevesmith  \n",
       "CREATED_DA                     2015-09-03 00:00:00  \n",
       "LAST_EDITE                              stevesmith  \n",
       "LAST_EDI_1                     2015-09-03 00:00:00  \n",
       "GLOBALID    {6D977270-4965-41DF-A19C-CDB5924BD2F9}  \n",
       "ENABLED                                          1  \n",
       "JETTER                                         NaN  \n",
       "SHAPE_LEN                               387.790553  "
      ]
     },
     "execution_count": 177,
     "metadata": {},
     "output_type": "execute_result"
    }
   ],
   "source": [
    "df_GIS.head().T"
   ]
  },
  {
   "cell_type": "code",
   "execution_count": 178,
   "metadata": {},
   "outputs": [],
   "source": [
    "#Select important columns from GIS\n",
    "GIS_columns= ['FACILITYID','TYPE','LINING_TYP','PIPE_SIZE','PIPE_MATER','SLOPE','LENGTH','INSTALL_DA']\n",
    "df_GIS = df_GIS[GIS_columns]"
   ]
  },
  {
   "cell_type": "code",
   "execution_count": 228,
   "metadata": {},
   "outputs": [
    {
     "data": {
      "text/html": [
       "<div>\n",
       "<style scoped>\n",
       "    .dataframe tbody tr th:only-of-type {\n",
       "        vertical-align: middle;\n",
       "    }\n",
       "\n",
       "    .dataframe tbody tr th {\n",
       "        vertical-align: top;\n",
       "    }\n",
       "\n",
       "    .dataframe thead th {\n",
       "        text-align: right;\n",
       "    }\n",
       "</style>\n",
       "<table border=\"1\" class=\"dataframe\">\n",
       "  <thead>\n",
       "    <tr style=\"text-align: right;\">\n",
       "      <th></th>\n",
       "      <th>FACILITYID</th>\n",
       "      <th>TYPE</th>\n",
       "      <th>LINING_TYP</th>\n",
       "      <th>PIPE_SIZE</th>\n",
       "      <th>PIPE_MATER</th>\n",
       "      <th>SLOPE</th>\n",
       "      <th>LENGTH</th>\n",
       "      <th>INSTALL_DA</th>\n",
       "    </tr>\n",
       "  </thead>\n",
       "  <tbody>\n",
       "    <tr>\n",
       "      <th>0</th>\n",
       "      <td>42453-42452</td>\n",
       "      <td>COLLECTOR</td>\n",
       "      <td>NONE</td>\n",
       "      <td>8</td>\n",
       "      <td>UNKNOWN</td>\n",
       "      <td>1.7</td>\n",
       "      <td>70.33</td>\n",
       "      <td>1970-01-01</td>\n",
       "    </tr>\n",
       "    <tr>\n",
       "      <th>1</th>\n",
       "      <td>42458-42457</td>\n",
       "      <td>COLLECTOR</td>\n",
       "      <td>NONE</td>\n",
       "      <td>8</td>\n",
       "      <td>ASBESTOS CEMENT</td>\n",
       "      <td>0.4</td>\n",
       "      <td>71.30</td>\n",
       "      <td>1970-01-01</td>\n",
       "    </tr>\n",
       "    <tr>\n",
       "      <th>2</th>\n",
       "      <td>42457-42452</td>\n",
       "      <td>COLLECTOR</td>\n",
       "      <td>NONE</td>\n",
       "      <td>8</td>\n",
       "      <td>ASBESTOS CEMENT</td>\n",
       "      <td>0.4</td>\n",
       "      <td>139.18</td>\n",
       "      <td>1970-01-01</td>\n",
       "    </tr>\n",
       "    <tr>\n",
       "      <th>3</th>\n",
       "      <td>42452-42451</td>\n",
       "      <td>COLLECTOR</td>\n",
       "      <td>NONE</td>\n",
       "      <td>8</td>\n",
       "      <td>UNKNOWN</td>\n",
       "      <td>0.4</td>\n",
       "      <td>335.83</td>\n",
       "      <td>1970-01-01</td>\n",
       "    </tr>\n",
       "    <tr>\n",
       "      <th>4</th>\n",
       "      <td>42451-42450</td>\n",
       "      <td>COLLECTOR</td>\n",
       "      <td>NONE</td>\n",
       "      <td>8</td>\n",
       "      <td>UNKNOWN</td>\n",
       "      <td>0.4</td>\n",
       "      <td>387.79</td>\n",
       "      <td>1970-01-01</td>\n",
       "    </tr>\n",
       "  </tbody>\n",
       "</table>\n",
       "</div>"
      ],
      "text/plain": [
       "    FACILITYID       TYPE LINING_TYP  PIPE_SIZE       PIPE_MATER  SLOPE  \\\n",
       "0  42453-42452  COLLECTOR       NONE          8          UNKNOWN    1.7   \n",
       "1  42458-42457  COLLECTOR       NONE          8  ASBESTOS CEMENT    0.4   \n",
       "2  42457-42452  COLLECTOR       NONE          8  ASBESTOS CEMENT    0.4   \n",
       "3  42452-42451  COLLECTOR       NONE          8          UNKNOWN    0.4   \n",
       "4  42451-42450  COLLECTOR       NONE          8          UNKNOWN    0.4   \n",
       "\n",
       "   LENGTH INSTALL_DA  \n",
       "0   70.33 1970-01-01  \n",
       "1   71.30 1970-01-01  \n",
       "2  139.18 1970-01-01  \n",
       "3  335.83 1970-01-01  \n",
       "4  387.79 1970-01-01  "
      ]
     },
     "execution_count": 228,
     "metadata": {},
     "output_type": "execute_result"
    }
   ],
   "source": [
    "df_GIS.head()"
   ]
  },
  {
   "cell_type": "code",
   "execution_count": 229,
   "metadata": {},
   "outputs": [
    {
     "name": "stdout",
     "output_type": "stream",
     "text": [
      "<class 'pandas.core.frame.DataFrame'>\n",
      "RangeIndex: 62728 entries, 0 to 62727\n",
      "Data columns (total 8 columns):\n",
      " #   Column      Non-Null Count  Dtype         \n",
      "---  ------      --------------  -----         \n",
      " 0   FACILITYID  62728 non-null  object        \n",
      " 1   TYPE        62728 non-null  object        \n",
      " 2   LINING_TYP  62663 non-null  object        \n",
      " 3   PIPE_SIZE   62728 non-null  int64         \n",
      " 4   PIPE_MATER  62371 non-null  object        \n",
      " 5   SLOPE       62728 non-null  float64       \n",
      " 6   LENGTH      62728 non-null  float64       \n",
      " 7   INSTALL_DA  61600 non-null  datetime64[ns]\n",
      "dtypes: datetime64[ns](1), float64(2), int64(1), object(4)\n",
      "memory usage: 3.8+ MB\n"
     ]
    }
   ],
   "source": [
    "df_GIS.info()"
   ]
  },
  {
   "cell_type": "code",
   "execution_count": 230,
   "metadata": {},
   "outputs": [],
   "source": [
    "#Combining two data frame \n",
    "df_merged = pd.merge(df_rate, df_GIS,  how='left', left_on=['FACILITYID'],right_on=['FACILITYID'])"
   ]
  },
  {
   "cell_type": "code",
   "execution_count": 231,
   "metadata": {},
   "outputs": [],
   "source": [
    "df_merged.drop('FACILITYID', axis=1, inplace=True)"
   ]
  },
  {
   "cell_type": "code",
   "execution_count": 232,
   "metadata": {},
   "outputs": [
    {
     "data": {
      "text/html": [
       "<div>\n",
       "<style scoped>\n",
       "    .dataframe tbody tr th:only-of-type {\n",
       "        vertical-align: middle;\n",
       "    }\n",
       "\n",
       "    .dataframe tbody tr th {\n",
       "        vertical-align: top;\n",
       "    }\n",
       "\n",
       "    .dataframe thead th {\n",
       "        text-align: right;\n",
       "    }\n",
       "</style>\n",
       "<table border=\"1\" class=\"dataframe\">\n",
       "  <thead>\n",
       "    <tr style=\"text-align: right;\">\n",
       "      <th></th>\n",
       "      <th>rate</th>\n",
       "      <th>TYPE</th>\n",
       "      <th>LINING_TYP</th>\n",
       "      <th>PIPE_SIZE</th>\n",
       "      <th>PIPE_MATER</th>\n",
       "      <th>SLOPE</th>\n",
       "      <th>LENGTH</th>\n",
       "      <th>INSTALL_DA</th>\n",
       "    </tr>\n",
       "  </thead>\n",
       "  <tbody>\n",
       "    <tr>\n",
       "      <th>0</th>\n",
       "      <td>-0.002894</td>\n",
       "      <td>COLLECTOR</td>\n",
       "      <td>NONE</td>\n",
       "      <td>12.0</td>\n",
       "      <td>VITRIFIED CLAY PIPE</td>\n",
       "      <td>0.49</td>\n",
       "      <td>400.69</td>\n",
       "      <td>1926-01-01</td>\n",
       "    </tr>\n",
       "    <tr>\n",
       "      <th>1</th>\n",
       "      <td>-0.003315</td>\n",
       "      <td>COLLECTOR</td>\n",
       "      <td>NONE</td>\n",
       "      <td>8.0</td>\n",
       "      <td>VITRIFIED CLAY PIPE</td>\n",
       "      <td>2.50</td>\n",
       "      <td>374.65</td>\n",
       "      <td>1926-01-01</td>\n",
       "    </tr>\n",
       "    <tr>\n",
       "      <th>2</th>\n",
       "      <td>-0.002532</td>\n",
       "      <td>COLLECTOR</td>\n",
       "      <td>NONE</td>\n",
       "      <td>8.0</td>\n",
       "      <td>VITRIFIED CLAY PIPE</td>\n",
       "      <td>2.00</td>\n",
       "      <td>385.08</td>\n",
       "      <td>1926-01-01</td>\n",
       "    </tr>\n",
       "    <tr>\n",
       "      <th>3</th>\n",
       "      <td>-0.003413</td>\n",
       "      <td>COLLECTOR</td>\n",
       "      <td>NONE</td>\n",
       "      <td>15.0</td>\n",
       "      <td>VITRIFIED CLAY PIPE</td>\n",
       "      <td>0.30</td>\n",
       "      <td>302.96</td>\n",
       "      <td>1950-01-01</td>\n",
       "    </tr>\n",
       "    <tr>\n",
       "      <th>4</th>\n",
       "      <td>-0.013652</td>\n",
       "      <td>COLLECTOR</td>\n",
       "      <td>NONE</td>\n",
       "      <td>15.0</td>\n",
       "      <td>VITRIFIED CLAY PIPE</td>\n",
       "      <td>0.40</td>\n",
       "      <td>51.09</td>\n",
       "      <td>1950-01-01</td>\n",
       "    </tr>\n",
       "  </tbody>\n",
       "</table>\n",
       "</div>"
      ],
      "text/plain": [
       "       rate       TYPE LINING_TYP  PIPE_SIZE           PIPE_MATER  SLOPE  \\\n",
       "0 -0.002894  COLLECTOR       NONE       12.0  VITRIFIED CLAY PIPE   0.49   \n",
       "1 -0.003315  COLLECTOR       NONE        8.0  VITRIFIED CLAY PIPE   2.50   \n",
       "2 -0.002532  COLLECTOR       NONE        8.0  VITRIFIED CLAY PIPE   2.00   \n",
       "3 -0.003413  COLLECTOR       NONE       15.0  VITRIFIED CLAY PIPE   0.30   \n",
       "4 -0.013652  COLLECTOR       NONE       15.0  VITRIFIED CLAY PIPE   0.40   \n",
       "\n",
       "   LENGTH INSTALL_DA  \n",
       "0  400.69 1926-01-01  \n",
       "1  374.65 1926-01-01  \n",
       "2  385.08 1926-01-01  \n",
       "3  302.96 1950-01-01  \n",
       "4   51.09 1950-01-01  "
      ]
     },
     "execution_count": 232,
     "metadata": {},
     "output_type": "execute_result"
    }
   ],
   "source": [
    "df_merged.head()"
   ]
  },
  {
   "cell_type": "code",
   "execution_count": 233,
   "metadata": {},
   "outputs": [
    {
     "name": "stdout",
     "output_type": "stream",
     "text": [
      "<class 'pandas.core.frame.DataFrame'>\n",
      "Int64Index: 1118 entries, 0 to 1117\n",
      "Data columns (total 8 columns):\n",
      " #   Column      Non-Null Count  Dtype         \n",
      "---  ------      --------------  -----         \n",
      " 0   rate        1118 non-null   float64       \n",
      " 1   TYPE        1113 non-null   object        \n",
      " 2   LINING_TYP  1113 non-null   object        \n",
      " 3   PIPE_SIZE   1113 non-null   float64       \n",
      " 4   PIPE_MATER  1113 non-null   object        \n",
      " 5   SLOPE       1113 non-null   float64       \n",
      " 6   LENGTH      1113 non-null   float64       \n",
      " 7   INSTALL_DA  1105 non-null   datetime64[ns]\n",
      "dtypes: datetime64[ns](1), float64(4), object(3)\n",
      "memory usage: 78.6+ KB\n"
     ]
    }
   ],
   "source": [
    "df_merged.info()"
   ]
  },
  {
   "cell_type": "code",
   "execution_count": 186,
   "metadata": {},
   "outputs": [],
   "source": [
    "# Converting datetime variable \n",
    "today = np.datetime64('today') \n",
    "\n",
    "def days_passed(d):\n",
    "    return ( today - d).days\n"
   ]
  },
  {
   "cell_type": "code",
   "execution_count": 188,
   "metadata": {},
   "outputs": [
    {
     "data": {
      "text/html": [
       "<div>\n",
       "<style scoped>\n",
       "    .dataframe tbody tr th:only-of-type {\n",
       "        vertical-align: middle;\n",
       "    }\n",
       "\n",
       "    .dataframe tbody tr th {\n",
       "        vertical-align: top;\n",
       "    }\n",
       "\n",
       "    .dataframe thead th {\n",
       "        text-align: right;\n",
       "    }\n",
       "</style>\n",
       "<table border=\"1\" class=\"dataframe\">\n",
       "  <thead>\n",
       "    <tr style=\"text-align: right;\">\n",
       "      <th></th>\n",
       "      <th>rate</th>\n",
       "      <th>TYPE</th>\n",
       "      <th>LINING_TYP</th>\n",
       "      <th>PIPE_SIZE</th>\n",
       "      <th>PIPE_MATER</th>\n",
       "      <th>SLOPE</th>\n",
       "      <th>LENGTH</th>\n",
       "      <th>time_since_install_da</th>\n",
       "    </tr>\n",
       "  </thead>\n",
       "  <tbody>\n",
       "    <tr>\n",
       "      <th>0</th>\n",
       "      <td>-0.002894</td>\n",
       "      <td>COLLECTOR</td>\n",
       "      <td>NONE</td>\n",
       "      <td>12.0</td>\n",
       "      <td>VITRIFIED CLAY PIPE</td>\n",
       "      <td>0.49</td>\n",
       "      <td>400.69</td>\n",
       "      <td>35167.0</td>\n",
       "    </tr>\n",
       "    <tr>\n",
       "      <th>1</th>\n",
       "      <td>-0.003315</td>\n",
       "      <td>COLLECTOR</td>\n",
       "      <td>NONE</td>\n",
       "      <td>8.0</td>\n",
       "      <td>VITRIFIED CLAY PIPE</td>\n",
       "      <td>2.50</td>\n",
       "      <td>374.65</td>\n",
       "      <td>35167.0</td>\n",
       "    </tr>\n",
       "    <tr>\n",
       "      <th>2</th>\n",
       "      <td>-0.002532</td>\n",
       "      <td>COLLECTOR</td>\n",
       "      <td>NONE</td>\n",
       "      <td>8.0</td>\n",
       "      <td>VITRIFIED CLAY PIPE</td>\n",
       "      <td>2.00</td>\n",
       "      <td>385.08</td>\n",
       "      <td>35167.0</td>\n",
       "    </tr>\n",
       "    <tr>\n",
       "      <th>3</th>\n",
       "      <td>-0.003413</td>\n",
       "      <td>COLLECTOR</td>\n",
       "      <td>NONE</td>\n",
       "      <td>15.0</td>\n",
       "      <td>VITRIFIED CLAY PIPE</td>\n",
       "      <td>0.30</td>\n",
       "      <td>302.96</td>\n",
       "      <td>26401.0</td>\n",
       "    </tr>\n",
       "    <tr>\n",
       "      <th>4</th>\n",
       "      <td>-0.013652</td>\n",
       "      <td>COLLECTOR</td>\n",
       "      <td>NONE</td>\n",
       "      <td>15.0</td>\n",
       "      <td>VITRIFIED CLAY PIPE</td>\n",
       "      <td>0.40</td>\n",
       "      <td>51.09</td>\n",
       "      <td>26401.0</td>\n",
       "    </tr>\n",
       "  </tbody>\n",
       "</table>\n",
       "</div>"
      ],
      "text/plain": [
       "       rate       TYPE LINING_TYP  PIPE_SIZE           PIPE_MATER  SLOPE  \\\n",
       "0 -0.002894  COLLECTOR       NONE       12.0  VITRIFIED CLAY PIPE   0.49   \n",
       "1 -0.003315  COLLECTOR       NONE        8.0  VITRIFIED CLAY PIPE   2.50   \n",
       "2 -0.002532  COLLECTOR       NONE        8.0  VITRIFIED CLAY PIPE   2.00   \n",
       "3 -0.003413  COLLECTOR       NONE       15.0  VITRIFIED CLAY PIPE   0.30   \n",
       "4 -0.013652  COLLECTOR       NONE       15.0  VITRIFIED CLAY PIPE   0.40   \n",
       "\n",
       "   LENGTH  time_since_install_da  \n",
       "0  400.69                35167.0  \n",
       "1  374.65                35167.0  \n",
       "2  385.08                35167.0  \n",
       "3  302.96                26401.0  \n",
       "4   51.09                26401.0  "
      ]
     },
     "execution_count": 188,
     "metadata": {},
     "output_type": "execute_result"
    }
   ],
   "source": [
    "df_merged['time_since_install_da'] = [days_passed(x) for x in df_merged['INSTALL_DA']]\n",
    "df_merged.drop('INSTALL_DA', axis=1, inplace=True)\n",
    "df_merged.head()"
   ]
  },
  {
   "cell_type": "code",
   "execution_count": 189,
   "metadata": {},
   "outputs": [
    {
     "name": "stdout",
     "output_type": "stream",
     "text": [
      "<class 'pandas.core.frame.DataFrame'>\n",
      "Int64Index: 1118 entries, 0 to 1117\n",
      "Data columns (total 8 columns):\n",
      " #   Column                 Non-Null Count  Dtype  \n",
      "---  ------                 --------------  -----  \n",
      " 0   rate                   1118 non-null   float64\n",
      " 1   TYPE                   1113 non-null   object \n",
      " 2   LINING_TYP             1113 non-null   object \n",
      " 3   PIPE_SIZE              1113 non-null   float64\n",
      " 4   PIPE_MATER             1113 non-null   object \n",
      " 5   SLOPE                  1113 non-null   float64\n",
      " 6   LENGTH                 1113 non-null   float64\n",
      " 7   time_since_install_da  1105 non-null   float64\n",
      "dtypes: float64(5), object(3)\n",
      "memory usage: 78.6+ KB\n"
     ]
    }
   ],
   "source": [
    "df_merged.info()\n"
   ]
  },
  {
   "cell_type": "code",
   "execution_count": 190,
   "metadata": {},
   "outputs": [
    {
     "data": {
      "text/plain": [
       "(1118, 8)"
      ]
     },
     "execution_count": 190,
     "metadata": {},
     "output_type": "execute_result"
    }
   ],
   "source": [
    "#check the number of rows and columns in the dataframe\n",
    "df_merged.shape"
   ]
  },
  {
   "cell_type": "markdown",
   "metadata": {},
   "source": [
    "Now, the data is ready for further analysis.\n"
   ]
  },
  {
   "cell_type": "markdown",
   "metadata": {},
   "source": [
    "### Sanity check and handling Data Inconsistencies\n"
   ]
  },
  {
   "cell_type": "markdown",
   "metadata": {},
   "source": [
    "### Visualizations"
   ]
  },
  {
   "cell_type": "code",
   "execution_count": 195,
   "metadata": {},
   "outputs": [
    {
     "data": {
      "text/plain": [
       "<AxesSubplot:>"
      ]
     },
     "execution_count": 195,
     "metadata": {},
     "output_type": "execute_result"
    },
    {
     "data": {
      "image/png": "[encoded data removed]",
      "text/plain": [
       "<Figure size 432x288 with 1 Axes>"
      ]
     },
     "metadata": {
      "needs_background": "light"
     },
     "output_type": "display_data"
    }
   ],
   "source": [
    "df_merged.rate.hist()"
   ]
  },
  {
   "cell_type": "code",
   "execution_count": 235,
   "metadata": {},
   "outputs": [
    {
     "data": {
      "text/plain": [
       "<AxesSubplot:>"
      ]
     },
     "execution_count": 235,
     "metadata": {},
     "output_type": "execute_result"
    },
    {
     "data": {
      "image/png": "[encoded data removed]",
      "text/plain": [
       "<Figure size 432x288 with 1 Axes>"
      ]
     },
     "metadata": {
      "needs_background": "light"
     },
     "output_type": "display_data"
    }
   ],
   "source": [
    "#print(df_merged.rate.value_counts())\n",
    "df_merged.rate.hist(range=[-0.05 ,0])"
   ]
  },
  {
   "cell_type": "code",
   "execution_count": 200,
   "metadata": {},
   "outputs": [
    {
     "name": "stdout",
     "output_type": "stream",
     "text": [
      "COLLECTOR          1112\n",
      "INVERTED SIPHON       1\n",
      "Name: TYPE, dtype: int64\n"
     ]
    },
    {
     "data": {
      "text/plain": [
       "<AxesSubplot:>"
      ]
     },
     "execution_count": 200,
     "metadata": {},
     "output_type": "execute_result"
    },
    {
     "data": {
      "image/png": "[encoded data removed]",
      "text/plain": [
       "<Figure size 432x288 with 1 Axes>"
      ]
     },
     "metadata": {
      "needs_background": "light"
     },
     "output_type": "display_data"
    }
   ],
   "source": [
    "print(df_merged.TYPE.value_counts())\n",
    "df_merged.TYPE.value_counts().plot(kind='bar')"
   ]
  },
  {
   "cell_type": "code",
   "execution_count": 201,
   "metadata": {},
   "outputs": [
    {
     "name": "stdout",
     "output_type": "stream",
     "text": [
      "NONE              962\n",
      "CURED IN PLACE    131\n",
      "FOLD AND FORM      10\n",
      "UNKNOWN             6\n",
      "Cured in Place      3\n",
      "PARTIAL LINING      1\n",
      "Name: LINING_TYP, dtype: int64\n"
     ]
    },
    {
     "data": {
      "text/plain": [
       "<AxesSubplot:>"
      ]
     },
     "execution_count": 201,
     "metadata": {},
     "output_type": "execute_result"
    },
    {
     "data": {
      "image/png": "[encoded data removed]",
      "text/plain": [
       "<Figure size 432x288 with 1 Axes>"
      ]
     },
     "metadata": {
      "needs_background": "light"
     },
     "output_type": "display_data"
    }
   ],
   "source": [
    "print(df_merged.LINING_TYP.value_counts())\n",
    "df_merged.LINING_TYP.value_counts().plot(kind='bar')"
   ]
  },
  {
   "cell_type": "markdown",
   "metadata": {},
   "source": [
    "I noticed some inconsistencies and fixed them below"
   ]
  },
  {
   "cell_type": "code",
   "execution_count": 203,
   "metadata": {},
   "outputs": [],
   "source": [
    "df_merged.replace({\n",
    "    'Cured in Place': 'CURED IN PLACE'\n",
    "}, inplace=True)"
   ]
  },
  {
   "cell_type": "code",
   "execution_count": 204,
   "metadata": {},
   "outputs": [
    {
     "name": "stdout",
     "output_type": "stream",
     "text": [
      "NONE              962\n",
      "CURED IN PLACE    134\n",
      "FOLD AND FORM      10\n",
      "UNKNOWN             6\n",
      "PARTIAL LINING      1\n",
      "Name: LINING_TYP, dtype: int64\n"
     ]
    },
    {
     "data": {
      "text/plain": [
       "<AxesSubplot:>"
      ]
     },
     "execution_count": 204,
     "metadata": {},
     "output_type": "execute_result"
    },
    {
     "data": {
      "image/png": "[encoded data removed]",
      "text/plain": [
       "<Figure size 432x288 with 1 Axes>"
      ]
     },
     "metadata": {
      "needs_background": "light"
     },
     "output_type": "display_data"
    }
   ],
   "source": [
    "print(df_merged.LINING_TYP.value_counts())\n",
    "df_merged.LINING_TYP.value_counts().plot(kind='bar')"
   ]
  },
  {
   "cell_type": "code",
   "execution_count": 205,
   "metadata": {},
   "outputs": [
    {
     "data": {
      "text/plain": [
       "<AxesSubplot:>"
      ]
     },
     "execution_count": 205,
     "metadata": {},
     "output_type": "execute_result"
    },
    {
     "data": {
      "image/png": "[encoded data removed]",
      "text/plain": [
       "<Figure size 432x288 with 1 Axes>"
      ]
     },
     "metadata": {
      "needs_background": "light"
     },
     "output_type": "display_data"
    }
   ],
   "source": [
    "df_merged.PIPE_SIZE.hist()"
   ]
  },
  {
   "cell_type": "code",
   "execution_count": 206,
   "metadata": {},
   "outputs": [
    {
     "name": "stdout",
     "output_type": "stream",
     "text": [
      "VITRIFIED CLAY PIPE                845\n",
      "POLYVINYL CHLORIDE                  96\n",
      "UNKNOWN                             73\n",
      "CAST IRON                           38\n",
      "DUCTILE IRON PIPE                   37\n",
      "ACRYLONITRILE BUTADIENE STYRENE     10\n",
      "CONCRETE PIPE                        9\n",
      "REINFORCED PLASTIC PIPE              3\n",
      "ASBESTOS CEMENT                      2\n",
      "Name: PIPE_MATER, dtype: int64\n"
     ]
    },
    {
     "data": {
      "text/plain": [
       "<AxesSubplot:>"
      ]
     },
     "execution_count": 206,
     "metadata": {},
     "output_type": "execute_result"
    },
    {
     "data": {
      "image/png": "[encoded data removed]",
      "text/plain": [
       "<Figure size 432x288 with 1 Axes>"
      ]
     },
     "metadata": {
      "needs_background": "light"
     },
     "output_type": "display_data"
    }
   ],
   "source": [
    "\n",
    "print(df_merged.PIPE_MATER.value_counts())\n",
    "df_merged.PIPE_MATER.value_counts().plot(kind='bar')"
   ]
  },
  {
   "cell_type": "code",
   "execution_count": 207,
   "metadata": {},
   "outputs": [
    {
     "data": {
      "text/plain": [
       "<AxesSubplot:>"
      ]
     },
     "execution_count": 207,
     "metadata": {},
     "output_type": "execute_result"
    },
    {
     "data": {
      "image/png": "[encoded data removed]",
      "text/plain": [
       "<Figure size 432x288 with 1 Axes>"
      ]
     },
     "metadata": {
      "needs_background": "light"
     },
     "output_type": "display_data"
    }
   ],
   "source": [
    "df_merged.SLOPE.hist()"
   ]
  },
  {
   "cell_type": "code",
   "execution_count": 208,
   "metadata": {},
   "outputs": [
    {
     "data": {
      "text/plain": [
       "<AxesSubplot:>"
      ]
     },
     "execution_count": 208,
     "metadata": {},
     "output_type": "execute_result"
    },
    {
     "data": {
      "image/png": "[encoded data removed]",
      "text/plain": [
       "<Figure size 432x288 with 1 Axes>"
      ]
     },
     "metadata": {
      "needs_background": "light"
     },
     "output_type": "display_data"
    }
   ],
   "source": [
    "df_merged.LENGTH.hist()"
   ]
  }
 ],
 "metadata": {
  "colab": {
   "name": "SL-RAT EDA.ipynb",
   "provenance": []
  },
  "kernelspec": {
   "display_name": "Python 3 (ipykernel)",
   "language": "python",
   "name": "python3"
  },
  "language_info": {
   "codemirror_mode": {
    "name": "ipython",
    "version": 3
   },
   "file_extension": ".py",
   "mimetype": "text/x-python",
   "name": "python",
   "nbconvert_exporter": "python",
   "pygments_lexer": "ipython3",
   "version": "3.9.7"
  }
 },
 "nbformat": 4,
 "nbformat_minor": 1
}
