{
 "cells": [
  {
   "cell_type": "markdown",
   "metadata": {
    "id": "F__mh4-zoJnY"
   },
   "source": [
    "# SL-RAT Score Project "
   ]
  },
  {
   "cell_type": "markdown",
   "metadata": {},
   "source": [
    "                                                                                                   -Sophia Sarica \n"
   ]
  },
  {
   "cell_type": "markdown",
   "metadata": {},
   "source": [
    "### Introduction\n",
    "\n",
    "This dataset contains the data from Baltimore County Sewer System SL-RAT Scores.SL-RAT is an acoustic technology that provides blockage measurement within the pipeline and collects data between 0 to 10. Scores between 0 to 3 indicate the sewer line has a blockage and needs to be clean. SL-RAT scores help to identify the pipelines that need to be clean first. \n",
    "SL_RAT Analysis project will analyze SL-RAT Sewer System tool degradation over time and predict when the SL- RAT scores would be 0. \n",
    "That would help Baltimore County work on cleaning assessments more timely of overall sewer systems."
   ]
  },
  {
   "cell_type": "markdown",
   "metadata": {},
   "source": [
    "### Data and Setup\n",
    "\n",
    "The following columns contain SL-RAT Score data and GIS Attributes data from Baltimore County Sewer Systems.\n",
    " \n",
    "\n",
    "- `FACILITYID`: Unique number between two manholes.  \n",
    "- `ACTIVITY_CODE`: Activity type on each assessment \n",
    "- `COMPLETED_DATE`: Finish day of Activity  \n",
    "- `SLRAT_SCORE`: Sl-rat scores between 0-10.\n",
    "- `TYPE`: Type of the pipe \n",
    "- `LINING_TYP`: Type of the pipe connections\n",
    "- `PIPE_SIZE`: Size of Pipe  \n",
    "- `PIPE_MATER`: Material of Pipe\n",
    "- `SLOPE`: Slope for each FacilityID \n",
    "- `LENGTH`: Lenght of Pipe\n",
    "- `INSTALL_DA`: Time since the installation date\n"
   ]
  },
  {
   "cell_type": "code",
   "execution_count": 1,
   "metadata": {},
   "outputs": [
    {
     "name": "stdout",
     "output_type": "stream",
     "text": [
      "Pandas 1.3.4\n"
     ]
    }
   ],
   "source": [
    "#importing libraries\n",
    "import pandas as pd\n",
    "import matplotlib.pylab as plt\n",
    "import seaborn as sns\n",
    "import time\n",
    "print('Pandas',pd.__version__)"
   ]
  },
  {
   "cell_type": "code",
   "execution_count": 2,
   "metadata": {
    "id": "SAjMTQV6o34t"
   },
   "outputs": [
    {
     "data": {
      "text/html": [
       "<div>\n",
       "<style scoped>\n",
       "    .dataframe tbody tr th:only-of-type {\n",
       "        vertical-align: middle;\n",
       "    }\n",
       "\n",
       "    .dataframe tbody tr th {\n",
       "        vertical-align: top;\n",
       "    }\n",
       "\n",
       "    .dataframe thead th {\n",
       "        text-align: right;\n",
       "    }\n",
       "</style>\n",
       "<table border=\"1\" class=\"dataframe\">\n",
       "  <thead>\n",
       "    <tr style=\"text-align: right;\">\n",
       "      <th></th>\n",
       "      <th>Unnamed: 0</th>\n",
       "      <th>WORKORDERID</th>\n",
       "      <th>DESCRIPTION</th>\n",
       "      <th>SLRAT_SCORE</th>\n",
       "      <th>rk</th>\n",
       "      <th>FACILITYID</th>\n",
       "      <th>COMPLETED_DATE</th>\n",
       "    </tr>\n",
       "  </thead>\n",
       "  <tbody>\n",
       "    <tr>\n",
       "      <th>0</th>\n",
       "      <td>0</td>\n",
       "      <td>799085</td>\n",
       "      <td>Gravity Main-SLRAT</td>\n",
       "      <td>NaN</td>\n",
       "      <td>1</td>\n",
       "      <td>0</td>\n",
       "      <td>NaT</td>\n",
       "    </tr>\n",
       "    <tr>\n",
       "      <th>1</th>\n",
       "      <td>1</td>\n",
       "      <td>772936</td>\n",
       "      <td>Gravity Main-PM SLRAT</td>\n",
       "      <td>NaN</td>\n",
       "      <td>1</td>\n",
       "      <td>0</td>\n",
       "      <td>NaT</td>\n",
       "    </tr>\n",
       "    <tr>\n",
       "      <th>2</th>\n",
       "      <td>2</td>\n",
       "      <td>805492</td>\n",
       "      <td>Gravity Main-PM SLRAT</td>\n",
       "      <td>NaN</td>\n",
       "      <td>1</td>\n",
       "      <td>0</td>\n",
       "      <td>NaT</td>\n",
       "    </tr>\n",
       "    <tr>\n",
       "      <th>3</th>\n",
       "      <td>3</td>\n",
       "      <td>774292</td>\n",
       "      <td>Gravity Main-PM SLRAT</td>\n",
       "      <td>NaN</td>\n",
       "      <td>1</td>\n",
       "      <td>0</td>\n",
       "      <td>NaT</td>\n",
       "    </tr>\n",
       "    <tr>\n",
       "      <th>4</th>\n",
       "      <td>4</td>\n",
       "      <td>772757</td>\n",
       "      <td>Gravity Main-PM SLRAT</td>\n",
       "      <td>NaN</td>\n",
       "      <td>1</td>\n",
       "      <td>0</td>\n",
       "      <td>NaT</td>\n",
       "    </tr>\n",
       "  </tbody>\n",
       "</table>\n",
       "</div>"
      ],
      "text/plain": [
       "   Unnamed: 0  WORKORDERID            DESCRIPTION SLRAT_SCORE  rk FACILITYID  \\\n",
       "0           0       799085     Gravity Main-SLRAT         NaN   1          0   \n",
       "1           1       772936  Gravity Main-PM SLRAT         NaN   1          0   \n",
       "2           2       805492  Gravity Main-PM SLRAT         NaN   1          0   \n",
       "3           3       774292  Gravity Main-PM SLRAT         NaN   1          0   \n",
       "4           4       772757  Gravity Main-PM SLRAT         NaN   1          0   \n",
       "\n",
       "  COMPLETED_DATE  \n",
       "0            NaT  \n",
       "1            NaT  \n",
       "2            NaT  \n",
       "3            NaT  \n",
       "4            NaT  "
      ]
     },
     "execution_count": 2,
     "metadata": {},
     "output_type": "execute_result"
    }
   ],
   "source": [
    "# read the SLRAT data \n",
    "df= pd.read_excel('SL_RAT_updated_raw.xlsx')\n",
    "# df= pd.read_excel('SLRAT_analysis.xlsx')\n",
    "\n",
    "if 'FacilityID' in df.columns:\n",
    "    df['FACILITYID'] = df['FacilityID']\n",
    "    df['COMPLETED_DATE'] = df['ACTUALFINISHDATE']\n",
    "    df.drop(['FacilityID', 'ACTUALFINISHDATE'], inplace=True, axis =1 )\n",
    "\n",
    "\n",
    "# needed_rows = ['SLRAT' in x or 'Clean' in x for x in df['ACTIVITY_CODE']]\n",
    "# df = df[needed_rows].reset_index(drop=True).copy()\n",
    "df.head()"
   ]
  },
  {
   "cell_type": "markdown",
   "metadata": {},
   "source": [
    "### Check for missing values and datatypes\n"
   ]
  },
  {
   "cell_type": "code",
   "execution_count": 3,
   "metadata": {
    "id": "Ks1d2s68_v7T"
   },
   "outputs": [
    {
     "name": "stdout",
     "output_type": "stream",
     "text": [
      "<class 'pandas.core.frame.DataFrame'>\n",
      "RangeIndex: 40706 entries, 0 to 40705\n",
      "Data columns (total 7 columns):\n",
      " #   Column          Non-Null Count  Dtype         \n",
      "---  ------          --------------  -----         \n",
      " 0   Unnamed: 0      40706 non-null  int64         \n",
      " 1   WORKORDERID     40706 non-null  int64         \n",
      " 2   DESCRIPTION     40706 non-null  object        \n",
      " 3   SLRAT_SCORE     35575 non-null  object        \n",
      " 4   rk              40706 non-null  int64         \n",
      " 5   FACILITYID      40706 non-null  object        \n",
      " 6   COMPLETED_DATE  36407 non-null  datetime64[ns]\n",
      "dtypes: datetime64[ns](1), int64(3), object(3)\n",
      "memory usage: 2.2+ MB\n"
     ]
    }
   ],
   "source": [
    "df.info()"
   ]
  },
  {
   "cell_type": "code",
   "execution_count": 4,
   "metadata": {
    "id": "R0jaGbSPwNss"
   },
   "outputs": [],
   "source": [
    "#Select necessary columns from SL-RAT file\n",
    "columns= ['FACILITYID','COMPLETED_DATE', 'SLRAT_SCORE', 'rk']"
   ]
  },
  {
   "cell_type": "code",
   "execution_count": 5,
   "metadata": {},
   "outputs": [],
   "source": [
    "df=df[columns]"
   ]
  },
  {
   "cell_type": "code",
   "execution_count": 6,
   "metadata": {
    "colab": {
     "base_uri": "https://localhost:8080/",
     "height": 206
    },
    "id": "ufL1VmpLrIlU",
    "outputId": "52c3ff78-3304-4d68-e6e3-cfef5fef80ff"
   },
   "outputs": [
    {
     "data": {
      "text/html": [
       "<div>\n",
       "<style scoped>\n",
       "    .dataframe tbody tr th:only-of-type {\n",
       "        vertical-align: middle;\n",
       "    }\n",
       "\n",
       "    .dataframe tbody tr th {\n",
       "        vertical-align: top;\n",
       "    }\n",
       "\n",
       "    .dataframe thead th {\n",
       "        text-align: right;\n",
       "    }\n",
       "</style>\n",
       "<table border=\"1\" class=\"dataframe\">\n",
       "  <thead>\n",
       "    <tr style=\"text-align: right;\">\n",
       "      <th></th>\n",
       "      <th>FACILITYID</th>\n",
       "      <th>COMPLETED_DATE</th>\n",
       "      <th>SLRAT_SCORE</th>\n",
       "      <th>rk</th>\n",
       "    </tr>\n",
       "  </thead>\n",
       "  <tbody>\n",
       "    <tr>\n",
       "      <th>0</th>\n",
       "      <td>0</td>\n",
       "      <td>NaT</td>\n",
       "      <td>NaN</td>\n",
       "      <td>1</td>\n",
       "    </tr>\n",
       "    <tr>\n",
       "      <th>1</th>\n",
       "      <td>0</td>\n",
       "      <td>NaT</td>\n",
       "      <td>NaN</td>\n",
       "      <td>1</td>\n",
       "    </tr>\n",
       "    <tr>\n",
       "      <th>2</th>\n",
       "      <td>0</td>\n",
       "      <td>NaT</td>\n",
       "      <td>NaN</td>\n",
       "      <td>1</td>\n",
       "    </tr>\n",
       "    <tr>\n",
       "      <th>3</th>\n",
       "      <td>0</td>\n",
       "      <td>NaT</td>\n",
       "      <td>NaN</td>\n",
       "      <td>1</td>\n",
       "    </tr>\n",
       "    <tr>\n",
       "      <th>4</th>\n",
       "      <td>0</td>\n",
       "      <td>NaT</td>\n",
       "      <td>NaN</td>\n",
       "      <td>1</td>\n",
       "    </tr>\n",
       "  </tbody>\n",
       "</table>\n",
       "</div>"
      ],
      "text/plain": [
       "  FACILITYID COMPLETED_DATE SLRAT_SCORE  rk\n",
       "0          0            NaT         NaN   1\n",
       "1          0            NaT         NaN   1\n",
       "2          0            NaT         NaN   1\n",
       "3          0            NaT         NaN   1\n",
       "4          0            NaT         NaN   1"
      ]
     },
     "execution_count": 6,
     "metadata": {},
     "output_type": "execute_result"
    }
   ],
   "source": [
    "df.head()"
   ]
  },
  {
   "cell_type": "code",
   "execution_count": 7,
   "metadata": {},
   "outputs": [
    {
     "name": "stdout",
     "output_type": "stream",
     "text": [
      "<class 'pandas.core.frame.DataFrame'>\n",
      "RangeIndex: 40706 entries, 0 to 40705\n",
      "Data columns (total 4 columns):\n",
      " #   Column          Non-Null Count  Dtype         \n",
      "---  ------          --------------  -----         \n",
      " 0   FACILITYID      40706 non-null  object        \n",
      " 1   COMPLETED_DATE  36407 non-null  datetime64[ns]\n",
      " 2   SLRAT_SCORE     35575 non-null  object        \n",
      " 3   rk              40706 non-null  int64         \n",
      "dtypes: datetime64[ns](1), int64(1), object(2)\n",
      "memory usage: 1.2+ MB\n"
     ]
    }
   ],
   "source": [
    "df.info()"
   ]
  },
  {
   "cell_type": "markdown",
   "metadata": {},
   "source": [
    "Let's explore the data!"
   ]
  },
  {
   "cell_type": "code",
   "execution_count": null,
   "metadata": {},
   "outputs": [],
   "source": []
  },
  {
   "cell_type": "markdown",
   "metadata": {},
   "source": [
    "### Removal of Unnecessary Data"
   ]
  },
  {
   "cell_type": "markdown",
   "metadata": {},
   "source": [
    "We need only sl-rat scores that occur more than once."
   ]
  },
  {
   "cell_type": "code",
   "execution_count": 8,
   "metadata": {},
   "outputs": [
    {
     "name": "stdout",
     "output_type": "stream",
     "text": [
      "4213\n"
     ]
    },
    {
     "data": {
      "text/html": [
       "<div>\n",
       "<style scoped>\n",
       "    .dataframe tbody tr th:only-of-type {\n",
       "        vertical-align: middle;\n",
       "    }\n",
       "\n",
       "    .dataframe tbody tr th {\n",
       "        vertical-align: top;\n",
       "    }\n",
       "\n",
       "    .dataframe thead th {\n",
       "        text-align: right;\n",
       "    }\n",
       "</style>\n",
       "<table border=\"1\" class=\"dataframe\">\n",
       "  <thead>\n",
       "    <tr style=\"text-align: right;\">\n",
       "      <th></th>\n",
       "      <th>FACILITYID</th>\n",
       "      <th>COMPLETED_DATE</th>\n",
       "      <th>SLRAT_SCORE</th>\n",
       "      <th>rk</th>\n",
       "    </tr>\n",
       "  </thead>\n",
       "  <tbody>\n",
       "    <tr>\n",
       "      <th>0</th>\n",
       "      <td>1000-1000M</td>\n",
       "      <td>2017-10-26</td>\n",
       "      <td>0</td>\n",
       "      <td>1</td>\n",
       "    </tr>\n",
       "    <tr>\n",
       "      <th>1</th>\n",
       "      <td>1000-1000M</td>\n",
       "      <td>2015-12-05</td>\n",
       "      <td>2</td>\n",
       "      <td>2</td>\n",
       "    </tr>\n",
       "    <tr>\n",
       "      <th>2</th>\n",
       "      <td>1000-1000M</td>\n",
       "      <td>NaT</td>\n",
       "      <td>NaN</td>\n",
       "      <td>3</td>\n",
       "    </tr>\n",
       "    <tr>\n",
       "      <th>3</th>\n",
       "      <td>1000M-1008</td>\n",
       "      <td>2015-12-05</td>\n",
       "      <td>0</td>\n",
       "      <td>1</td>\n",
       "    </tr>\n",
       "    <tr>\n",
       "      <th>4</th>\n",
       "      <td>1000M-1008</td>\n",
       "      <td>NaT</td>\n",
       "      <td>NaN</td>\n",
       "      <td>2</td>\n",
       "    </tr>\n",
       "    <tr>\n",
       "      <th>...</th>\n",
       "      <td>...</td>\n",
       "      <td>...</td>\n",
       "      <td>...</td>\n",
       "      <td>...</td>\n",
       "    </tr>\n",
       "    <tr>\n",
       "      <th>10513</th>\n",
       "      <td>SV650-51505</td>\n",
       "      <td>NaT</td>\n",
       "      <td>NaN</td>\n",
       "      <td>2</td>\n",
       "    </tr>\n",
       "    <tr>\n",
       "      <th>10514</th>\n",
       "      <td>TCM52-TCM22</td>\n",
       "      <td>2017-09-19</td>\n",
       "      <td>NaN</td>\n",
       "      <td>1</td>\n",
       "    </tr>\n",
       "    <tr>\n",
       "      <th>10515</th>\n",
       "      <td>TCM52-TCM22</td>\n",
       "      <td>NaT</td>\n",
       "      <td>NaN</td>\n",
       "      <td>2</td>\n",
       "    </tr>\n",
       "    <tr>\n",
       "      <th>10516</th>\n",
       "      <td>TCM78-1015</td>\n",
       "      <td>2019-01-16</td>\n",
       "      <td>4</td>\n",
       "      <td>1</td>\n",
       "    </tr>\n",
       "    <tr>\n",
       "      <th>10517</th>\n",
       "      <td>TCM78-1015</td>\n",
       "      <td>NaT</td>\n",
       "      <td>NaN</td>\n",
       "      <td>2</td>\n",
       "    </tr>\n",
       "  </tbody>\n",
       "</table>\n",
       "<p>10518 rows × 4 columns</p>\n",
       "</div>"
      ],
      "text/plain": [
       "        FACILITYID COMPLETED_DATE SLRAT_SCORE  rk\n",
       "0       1000-1000M     2017-10-26           0   1\n",
       "1       1000-1000M     2015-12-05           2   2\n",
       "2       1000-1000M            NaT         NaN   3\n",
       "3       1000M-1008     2015-12-05           0   1\n",
       "4       1000M-1008            NaT         NaN   2\n",
       "...            ...            ...         ...  ..\n",
       "10513  SV650-51505            NaT         NaN   2\n",
       "10514  TCM52-TCM22     2017-09-19         NaN   1\n",
       "10515  TCM52-TCM22            NaT         NaN   2\n",
       "10516   TCM78-1015     2019-01-16           4   1\n",
       "10517   TCM78-1015            NaT         NaN   2\n",
       "\n",
       "[10518 rows x 4 columns]"
      ]
     },
     "execution_count": 8,
     "metadata": {},
     "output_type": "execute_result"
    }
   ],
   "source": [
    "# # Adding&removing rk column to get rid of the unnecessary sl-rat scores\n",
    "# counts = df.FACILITYID.value_counts().to_dict()\n",
    "\n",
    "# df['rk'] = [counts[x] for x in df.FACILITYID]\n",
    "\n",
    "# df = df[df.rk > 1].reset_index(drop=True).copy()\n",
    "# df.drop('rk', axis=1, inplace=True)\n",
    "\n",
    "fac = set( df[df.rk>1]['FACILITYID'])\n",
    "print(len(fac))\n",
    "df = df[df.FACILITYID.isin(fac)].sort_values(by=['FACILITYID', 'COMPLETED_DATE'], ascending=[True, False]).copy().reset_index(drop=True)\n",
    "df"
   ]
  },
  {
   "cell_type": "code",
   "execution_count": 9,
   "metadata": {
    "colab": {
     "base_uri": "https://localhost:8080/"
    },
    "id": "ZPLle1d8sg-Z",
    "outputId": "9fdd61a7-6959-4a57-dda5-f46f10dfc492"
   },
   "outputs": [
    {
     "name": "stdout",
     "output_type": "stream",
     "text": [
      "<class 'pandas.core.frame.DataFrame'>\n",
      "RangeIndex: 10518 entries, 0 to 10517\n",
      "Data columns (total 4 columns):\n",
      " #   Column          Non-Null Count  Dtype         \n",
      "---  ------          --------------  -----         \n",
      " 0   FACILITYID      10518 non-null  object        \n",
      " 1   COMPLETED_DATE  9651 non-null   datetime64[ns]\n",
      " 2   SLRAT_SCORE     9688 non-null   object        \n",
      " 3   rk              10518 non-null  int64         \n",
      "dtypes: datetime64[ns](1), int64(1), object(2)\n",
      "memory usage: 328.8+ KB\n"
     ]
    }
   ],
   "source": [
    "df.info()"
   ]
  },
  {
   "cell_type": "code",
   "execution_count": 10,
   "metadata": {},
   "outputs": [
    {
     "data": {
      "text/plain": [
       "(10518, 4)"
      ]
     },
     "execution_count": 10,
     "metadata": {},
     "output_type": "execute_result"
    }
   ],
   "source": [
    "df.shape"
   ]
  },
  {
   "cell_type": "code",
   "execution_count": 11,
   "metadata": {},
   "outputs": [
    {
     "data": {
      "text/html": [
       "<div>\n",
       "<style scoped>\n",
       "    .dataframe tbody tr th:only-of-type {\n",
       "        vertical-align: middle;\n",
       "    }\n",
       "\n",
       "    .dataframe tbody tr th {\n",
       "        vertical-align: top;\n",
       "    }\n",
       "\n",
       "    .dataframe thead th {\n",
       "        text-align: right;\n",
       "    }\n",
       "</style>\n",
       "<table border=\"1\" class=\"dataframe\">\n",
       "  <thead>\n",
       "    <tr style=\"text-align: right;\">\n",
       "      <th></th>\n",
       "      <th>FACILITYID</th>\n",
       "      <th>COMPLETED_DATE</th>\n",
       "      <th>SLRAT_SCORE</th>\n",
       "      <th>rk</th>\n",
       "    </tr>\n",
       "  </thead>\n",
       "  <tbody>\n",
       "    <tr>\n",
       "      <th>0</th>\n",
       "      <td>1000-1000M</td>\n",
       "      <td>2017-10-26</td>\n",
       "      <td>0</td>\n",
       "      <td>1</td>\n",
       "    </tr>\n",
       "    <tr>\n",
       "      <th>1</th>\n",
       "      <td>1000-1000M</td>\n",
       "      <td>2015-12-05</td>\n",
       "      <td>2</td>\n",
       "      <td>2</td>\n",
       "    </tr>\n",
       "    <tr>\n",
       "      <th>2</th>\n",
       "      <td>1000-1000M</td>\n",
       "      <td>NaT</td>\n",
       "      <td>NaN</td>\n",
       "      <td>3</td>\n",
       "    </tr>\n",
       "    <tr>\n",
       "      <th>3</th>\n",
       "      <td>1000M-1008</td>\n",
       "      <td>2015-12-05</td>\n",
       "      <td>0</td>\n",
       "      <td>1</td>\n",
       "    </tr>\n",
       "    <tr>\n",
       "      <th>4</th>\n",
       "      <td>1000M-1008</td>\n",
       "      <td>NaT</td>\n",
       "      <td>NaN</td>\n",
       "      <td>2</td>\n",
       "    </tr>\n",
       "    <tr>\n",
       "      <th>...</th>\n",
       "      <td>...</td>\n",
       "      <td>...</td>\n",
       "      <td>...</td>\n",
       "      <td>...</td>\n",
       "    </tr>\n",
       "    <tr>\n",
       "      <th>10513</th>\n",
       "      <td>SV650-51505</td>\n",
       "      <td>NaT</td>\n",
       "      <td>NaN</td>\n",
       "      <td>2</td>\n",
       "    </tr>\n",
       "    <tr>\n",
       "      <th>10514</th>\n",
       "      <td>TCM52-TCM22</td>\n",
       "      <td>2017-09-19</td>\n",
       "      <td>NaN</td>\n",
       "      <td>1</td>\n",
       "    </tr>\n",
       "    <tr>\n",
       "      <th>10515</th>\n",
       "      <td>TCM52-TCM22</td>\n",
       "      <td>NaT</td>\n",
       "      <td>NaN</td>\n",
       "      <td>2</td>\n",
       "    </tr>\n",
       "    <tr>\n",
       "      <th>10516</th>\n",
       "      <td>TCM78-1015</td>\n",
       "      <td>2019-01-16</td>\n",
       "      <td>4</td>\n",
       "      <td>1</td>\n",
       "    </tr>\n",
       "    <tr>\n",
       "      <th>10517</th>\n",
       "      <td>TCM78-1015</td>\n",
       "      <td>NaT</td>\n",
       "      <td>NaN</td>\n",
       "      <td>2</td>\n",
       "    </tr>\n",
       "  </tbody>\n",
       "</table>\n",
       "<p>10518 rows × 4 columns</p>\n",
       "</div>"
      ],
      "text/plain": [
       "        FACILITYID COMPLETED_DATE SLRAT_SCORE  rk\n",
       "0       1000-1000M     2017-10-26           0   1\n",
       "1       1000-1000M     2015-12-05           2   2\n",
       "2       1000-1000M            NaT         NaN   3\n",
       "3       1000M-1008     2015-12-05           0   1\n",
       "4       1000M-1008            NaT         NaN   2\n",
       "...            ...            ...         ...  ..\n",
       "10513  SV650-51505            NaT         NaN   2\n",
       "10514  TCM52-TCM22     2017-09-19         NaN   1\n",
       "10515  TCM52-TCM22            NaT         NaN   2\n",
       "10516   TCM78-1015     2019-01-16           4   1\n",
       "10517   TCM78-1015            NaT         NaN   2\n",
       "\n",
       "[10518 rows x 4 columns]"
      ]
     },
     "execution_count": 11,
     "metadata": {},
     "output_type": "execute_result"
    }
   ],
   "source": [
    "df"
   ]
  },
  {
   "cell_type": "code",
   "execution_count": null,
   "metadata": {},
   "outputs": [],
   "source": []
  },
  {
   "cell_type": "code",
   "execution_count": 12,
   "metadata": {},
   "outputs": [],
   "source": [
    "# df[df.FACILITYID=='10171-10170']"
   ]
  },
  {
   "cell_type": "code",
   "execution_count": 13,
   "metadata": {},
   "outputs": [],
   "source": [
    "import numpy as np\n",
    "def agg_func(x):\n",
    "    \"\"\"\n",
    "    I have made an assumption here. \n",
    "    it may have many records and on multiple records, pipes may have been cleaned in between.\n",
    "    so I checked only the first 2 occurance and calculated the rate.\n",
    "    eg: first rate 9  on March 1\n",
    "    second rate 7 on March 15\n",
    "    I calculated the rate by (7 - 9) / 30 \n",
    "    \n",
    "    if rate is positive, I used none because probably it is cleaned and I cannot calculate the rate\n",
    "    \"\"\"\n",
    "    \n",
    "    sc = list(x.SLRAT_SCORE)\n",
    "    dt = list(x.COMPLETED_DATE)\n",
    "#     name = x.FACILITYID.values[0]\n",
    "    \n",
    "    for i in range(len(sc)):\n",
    "        sc_ = sc[i: i+2]\n",
    "        dt_ = dt[i: i+2]\n",
    "        \n",
    "        if len(sc_) != 2:\n",
    "#             print(name, len(sc_))\n",
    "            return None\n",
    "    \n",
    "        if pd.isna(sc_).sum() == 0 and pd.isna(dt_).sum() == 0:\n",
    "            sc1 = sc_[1]\n",
    "            sc0 = sc_[0]\n",
    "            dt1 = dt_[1]\n",
    "            dt0 = dt_[0]\n",
    "            break\n",
    "    \n",
    "#     print(sc0, sc1, dt0, dt1)\n",
    "    if pd.isna(sc1) or pd.isna(sc0):\n",
    "        return None\n",
    "    \n",
    "    if sc1 <= sc0:\n",
    "        return None\n",
    "    \n",
    "    days = (dt1 - dt0).days\n",
    "    if days == 0:\n",
    "        return None\n",
    "    \n",
    "    rate =  (int(sc1) - int(sc0)) / days\n",
    "#     print(rate)\n",
    "    return rate"
   ]
  },
  {
   "cell_type": "code",
   "execution_count": 14,
   "metadata": {
    "scrolled": false
   },
   "outputs": [
    {
     "data": {
      "text/plain": [
       "FACILITYID\n",
       "1000-1000M    -0.002894\n",
       "1000M-1008          NaN\n",
       "1004-946      -0.003315\n",
       "10051-9502          NaN\n",
       "1006-902            NaN\n",
       "                 ...   \n",
       "F4136-63762         NaN\n",
       "NS968-14335         NaN\n",
       "SV650-51505         NaN\n",
       "TCM52-TCM22         NaN\n",
       "TCM78-1015          NaN\n",
       "Length: 4213, dtype: float64"
      ]
     },
     "execution_count": 14,
     "metadata": {},
     "output_type": "execute_result"
    }
   ],
   "source": [
    "rate = df.groupby(by='FACILITYID').apply(agg_func)\n",
    "rate"
   ]
  },
  {
   "cell_type": "code",
   "execution_count": 15,
   "metadata": {},
   "outputs": [
    {
     "data": {
      "text/plain": [
       "4213"
      ]
     },
     "execution_count": 15,
     "metadata": {},
     "output_type": "execute_result"
    }
   ],
   "source": [
    "len(rate)"
   ]
  },
  {
   "cell_type": "code",
   "execution_count": 16,
   "metadata": {},
   "outputs": [
    {
     "data": {
      "text/plain": [
       "1187"
      ]
     },
     "execution_count": 16,
     "metadata": {},
     "output_type": "execute_result"
    }
   ],
   "source": [
    "sum (rate < 0)"
   ]
  },
  {
   "cell_type": "code",
   "execution_count": 17,
   "metadata": {},
   "outputs": [
    {
     "data": {
      "text/plain": [
       "(1253, 2)"
      ]
     },
     "execution_count": 17,
     "metadata": {},
     "output_type": "execute_result"
    }
   ],
   "source": [
    "df_rate = pd.DataFrame()\n",
    "df_rate['FACILITYID'] = rate.index\n",
    "df_rate['rate'] = rate.values\n",
    "\n",
    "df_rate.dropna(inplace=True)\n",
    "df_rate.shape"
   ]
  },
  {
   "cell_type": "markdown",
   "metadata": {},
   "source": [
    "I'm trying to get more data."
   ]
  },
  {
   "cell_type": "code",
   "execution_count": 18,
   "metadata": {
    "id": "EMiwOhLApxqi"
   },
   "outputs": [],
   "source": [
    "#Read the data from GIS features\n",
    "df_GIS= pd.read_excel('ssGravityMain-GIS_Attributes.xlsx')"
   ]
  },
  {
   "cell_type": "code",
   "execution_count": 19,
   "metadata": {
    "colab": {
     "base_uri": "https://localhost:8080/",
     "height": 560
    },
    "id": "guGE4eesqLht",
    "outputId": "20e87e86-7a8d-4943-d813-fd6596f4b072"
   },
   "outputs": [
    {
     "data": {
      "text/html": [
       "<div>\n",
       "<style scoped>\n",
       "    .dataframe tbody tr th:only-of-type {\n",
       "        vertical-align: middle;\n",
       "    }\n",
       "\n",
       "    .dataframe tbody tr th {\n",
       "        vertical-align: top;\n",
       "    }\n",
       "\n",
       "    .dataframe thead th {\n",
       "        text-align: right;\n",
       "    }\n",
       "</style>\n",
       "<table border=\"1\" class=\"dataframe\">\n",
       "  <thead>\n",
       "    <tr style=\"text-align: right;\">\n",
       "      <th></th>\n",
       "      <th>0</th>\n",
       "      <th>1</th>\n",
       "      <th>2</th>\n",
       "      <th>3</th>\n",
       "      <th>4</th>\n",
       "    </tr>\n",
       "  </thead>\n",
       "  <tbody>\n",
       "    <tr>\n",
       "      <th>FACILITYID</th>\n",
       "      <td>42453-42452</td>\n",
       "      <td>42458-42457</td>\n",
       "      <td>42457-42452</td>\n",
       "      <td>42452-42451</td>\n",
       "      <td>42451-42450</td>\n",
       "    </tr>\n",
       "    <tr>\n",
       "      <th>TYPE</th>\n",
       "      <td>COLLECTOR</td>\n",
       "      <td>COLLECTOR</td>\n",
       "      <td>COLLECTOR</td>\n",
       "      <td>COLLECTOR</td>\n",
       "      <td>COLLECTOR</td>\n",
       "    </tr>\n",
       "    <tr>\n",
       "      <th>SEWER_SERV</th>\n",
       "      <td>83-94-00-00</td>\n",
       "      <td>83-94-00-00</td>\n",
       "      <td>83-94-00-00</td>\n",
       "      <td>83-94-00-00</td>\n",
       "      <td>83-94-00-00</td>\n",
       "    </tr>\n",
       "    <tr>\n",
       "      <th>PIPE_SIZE</th>\n",
       "      <td>8</td>\n",
       "      <td>8</td>\n",
       "      <td>8</td>\n",
       "      <td>8</td>\n",
       "      <td>8</td>\n",
       "    </tr>\n",
       "    <tr>\n",
       "      <th>PIPE_MATER</th>\n",
       "      <td>UNKNOWN</td>\n",
       "      <td>ASBESTOS CEMENT</td>\n",
       "      <td>ASBESTOS CEMENT</td>\n",
       "      <td>UNKNOWN</td>\n",
       "      <td>UNKNOWN</td>\n",
       "    </tr>\n",
       "    <tr>\n",
       "      <th>SLOPE</th>\n",
       "      <td>1.7</td>\n",
       "      <td>0.4</td>\n",
       "      <td>0.4</td>\n",
       "      <td>0.4</td>\n",
       "      <td>0.4</td>\n",
       "    </tr>\n",
       "    <tr>\n",
       "      <th>DESIGN_LEN</th>\n",
       "      <td>70.3</td>\n",
       "      <td>71.3</td>\n",
       "      <td>139.1</td>\n",
       "      <td>335.8</td>\n",
       "      <td>387.7</td>\n",
       "    </tr>\n",
       "    <tr>\n",
       "      <th>LENGTH</th>\n",
       "      <td>70.33</td>\n",
       "      <td>71.3</td>\n",
       "      <td>139.18</td>\n",
       "      <td>335.83</td>\n",
       "      <td>387.79</td>\n",
       "    </tr>\n",
       "    <tr>\n",
       "      <th>UPSTREAM_I</th>\n",
       "      <td>688.36</td>\n",
       "      <td>688.1</td>\n",
       "      <td>687.72</td>\n",
       "      <td>687.07</td>\n",
       "      <td>685.63</td>\n",
       "    </tr>\n",
       "    <tr>\n",
       "      <th>DOWNSTREAM</th>\n",
       "      <td>687.17</td>\n",
       "      <td>687.82</td>\n",
       "      <td>687.17</td>\n",
       "      <td>685.73</td>\n",
       "      <td>684.03</td>\n",
       "    </tr>\n",
       "    <tr>\n",
       "      <th>LINING_TYP</th>\n",
       "      <td>NONE</td>\n",
       "      <td>NONE</td>\n",
       "      <td>NONE</td>\n",
       "      <td>NONE</td>\n",
       "      <td>NONE</td>\n",
       "    </tr>\n",
       "    <tr>\n",
       "      <th>STORM_CONC</th>\n",
       "      <td>NO</td>\n",
       "      <td>NO</td>\n",
       "      <td>NO</td>\n",
       "      <td>NO</td>\n",
       "      <td>NO</td>\n",
       "    </tr>\n",
       "    <tr>\n",
       "      <th>COORDINATE</th>\n",
       "      <td>DIGITIZING</td>\n",
       "      <td>DIGITIZING</td>\n",
       "      <td>DIGITIZING</td>\n",
       "      <td>DIGITIZING</td>\n",
       "      <td>DIGITIZING</td>\n",
       "    </tr>\n",
       "    <tr>\n",
       "      <th>LIFECYCLE_</th>\n",
       "      <td>ACTIVE</td>\n",
       "      <td>ACTIVE</td>\n",
       "      <td>ACTIVE</td>\n",
       "      <td>ACTIVE</td>\n",
       "      <td>ACTIVE</td>\n",
       "    </tr>\n",
       "    <tr>\n",
       "      <th>LOCATION</th>\n",
       "      <td>NaN</td>\n",
       "      <td>NaN</td>\n",
       "      <td>NaN</td>\n",
       "      <td>NaN</td>\n",
       "      <td>NaN</td>\n",
       "    </tr>\n",
       "    <tr>\n",
       "      <th>OWNED_BY</th>\n",
       "      <td>COUNTY</td>\n",
       "      <td>COUNTY</td>\n",
       "      <td>COUNTY</td>\n",
       "      <td>COUNTY</td>\n",
       "      <td>COUNTY</td>\n",
       "    </tr>\n",
       "    <tr>\n",
       "      <th>MAINTAINED</th>\n",
       "      <td>COUNTY</td>\n",
       "      <td>COUNTY</td>\n",
       "      <td>COUNTY</td>\n",
       "      <td>COUNTY</td>\n",
       "      <td>COUNTY</td>\n",
       "    </tr>\n",
       "    <tr>\n",
       "      <th>RESPONSIBL</th>\n",
       "      <td>DEPARTMENT OF PUBLIC WORKS</td>\n",
       "      <td>DEPARTMENT OF PUBLIC WORKS</td>\n",
       "      <td>DEPARTMENT OF PUBLIC WORKS</td>\n",
       "      <td>DEPARTMENT OF PUBLIC WORKS</td>\n",
       "      <td>DEPARTMENT OF PUBLIC WORKS</td>\n",
       "    </tr>\n",
       "    <tr>\n",
       "      <th>CONDITION</th>\n",
       "      <td>0</td>\n",
       "      <td>0</td>\n",
       "      <td>0</td>\n",
       "      <td>0</td>\n",
       "      <td>0</td>\n",
       "    </tr>\n",
       "    <tr>\n",
       "      <th>CONDITION_</th>\n",
       "      <td>NaN</td>\n",
       "      <td>NaN</td>\n",
       "      <td>NaN</td>\n",
       "      <td>NaN</td>\n",
       "      <td>NaN</td>\n",
       "    </tr>\n",
       "    <tr>\n",
       "      <th>INSTALL_DA</th>\n",
       "      <td>1970-01-01 00:00:00</td>\n",
       "      <td>1970-01-01 00:00:00</td>\n",
       "      <td>1970-01-01 00:00:00</td>\n",
       "      <td>1970-01-01 00:00:00</td>\n",
       "      <td>1970-01-01 00:00:00</td>\n",
       "    </tr>\n",
       "    <tr>\n",
       "      <th>WARRANTY_D</th>\n",
       "      <td>NaN</td>\n",
       "      <td>NaN</td>\n",
       "      <td>NaN</td>\n",
       "      <td>NaN</td>\n",
       "      <td>NaN</td>\n",
       "    </tr>\n",
       "    <tr>\n",
       "      <th>REHABILITA</th>\n",
       "      <td>NaT</td>\n",
       "      <td>NaT</td>\n",
       "      <td>NaT</td>\n",
       "      <td>NaT</td>\n",
       "      <td>NaT</td>\n",
       "    </tr>\n",
       "    <tr>\n",
       "      <th>REHABILI_1</th>\n",
       "      <td>NaN</td>\n",
       "      <td>NaN</td>\n",
       "      <td>NaN</td>\n",
       "      <td>NaN</td>\n",
       "      <td>NaN</td>\n",
       "    </tr>\n",
       "    <tr>\n",
       "      <th>NOTES</th>\n",
       "      <td>NaN</td>\n",
       "      <td>NaN</td>\n",
       "      <td>NaN</td>\n",
       "      <td>NaN</td>\n",
       "      <td>NaN</td>\n",
       "    </tr>\n",
       "    <tr>\n",
       "      <th>CREATED_US</th>\n",
       "      <td>stevesmith</td>\n",
       "      <td>stevesmith</td>\n",
       "      <td>stevesmith</td>\n",
       "      <td>stevesmith</td>\n",
       "      <td>stevesmith</td>\n",
       "    </tr>\n",
       "    <tr>\n",
       "      <th>CREATED_DA</th>\n",
       "      <td>2015-09-03 00:00:00</td>\n",
       "      <td>2015-09-03 00:00:00</td>\n",
       "      <td>2015-09-03 00:00:00</td>\n",
       "      <td>2015-09-03 00:00:00</td>\n",
       "      <td>2015-09-03 00:00:00</td>\n",
       "    </tr>\n",
       "    <tr>\n",
       "      <th>LAST_EDITE</th>\n",
       "      <td>stevesmith</td>\n",
       "      <td>stevesmith</td>\n",
       "      <td>stevesmith</td>\n",
       "      <td>stevesmith</td>\n",
       "      <td>stevesmith</td>\n",
       "    </tr>\n",
       "    <tr>\n",
       "      <th>LAST_EDI_1</th>\n",
       "      <td>2015-09-03 00:00:00</td>\n",
       "      <td>2015-09-03 00:00:00</td>\n",
       "      <td>2015-09-03 00:00:00</td>\n",
       "      <td>2015-09-03 00:00:00</td>\n",
       "      <td>2015-09-03 00:00:00</td>\n",
       "    </tr>\n",
       "    <tr>\n",
       "      <th>GLOBALID</th>\n",
       "      <td>{99358FA6-1847-431F-869A-12341DB1F093}</td>\n",
       "      <td>{3F356ABF-33D7-463B-8502-4A5C4C352B0C}</td>\n",
       "      <td>{98C04947-F754-487E-8794-A29FC72B13BE}</td>\n",
       "      <td>{25338C76-0A56-4E0F-8493-93E91B0EA770}</td>\n",
       "      <td>{6D977270-4965-41DF-A19C-CDB5924BD2F9}</td>\n",
       "    </tr>\n",
       "    <tr>\n",
       "      <th>ENABLED</th>\n",
       "      <td>1</td>\n",
       "      <td>1</td>\n",
       "      <td>1</td>\n",
       "      <td>1</td>\n",
       "      <td>1</td>\n",
       "    </tr>\n",
       "    <tr>\n",
       "      <th>JETTER</th>\n",
       "      <td>NaN</td>\n",
       "      <td>NaN</td>\n",
       "      <td>NaN</td>\n",
       "      <td>NaN</td>\n",
       "      <td>NaN</td>\n",
       "    </tr>\n",
       "    <tr>\n",
       "      <th>SHAPE_LEN</th>\n",
       "      <td>70.32951</td>\n",
       "      <td>71.302674</td>\n",
       "      <td>139.176544</td>\n",
       "      <td>335.831233</td>\n",
       "      <td>387.790553</td>\n",
       "    </tr>\n",
       "  </tbody>\n",
       "</table>\n",
       "</div>"
      ],
      "text/plain": [
       "                                                 0  \\\n",
       "FACILITYID                             42453-42452   \n",
       "TYPE                                     COLLECTOR   \n",
       "SEWER_SERV                             83-94-00-00   \n",
       "PIPE_SIZE                                        8   \n",
       "PIPE_MATER                                 UNKNOWN   \n",
       "SLOPE                                          1.7   \n",
       "DESIGN_LEN                                    70.3   \n",
       "LENGTH                                       70.33   \n",
       "UPSTREAM_I                                  688.36   \n",
       "DOWNSTREAM                                  687.17   \n",
       "LINING_TYP                                    NONE   \n",
       "STORM_CONC                                      NO   \n",
       "COORDINATE                              DIGITIZING   \n",
       "LIFECYCLE_                                  ACTIVE   \n",
       "LOCATION                                       NaN   \n",
       "OWNED_BY                                    COUNTY   \n",
       "MAINTAINED                                  COUNTY   \n",
       "RESPONSIBL              DEPARTMENT OF PUBLIC WORKS   \n",
       "CONDITION                                        0   \n",
       "CONDITION_                                     NaN   \n",
       "INSTALL_DA                     1970-01-01 00:00:00   \n",
       "WARRANTY_D                                     NaN   \n",
       "REHABILITA                                     NaT   \n",
       "REHABILI_1                                     NaN   \n",
       "NOTES                                          NaN   \n",
       "CREATED_US                              stevesmith   \n",
       "CREATED_DA                     2015-09-03 00:00:00   \n",
       "LAST_EDITE                              stevesmith   \n",
       "LAST_EDI_1                     2015-09-03 00:00:00   \n",
       "GLOBALID    {99358FA6-1847-431F-869A-12341DB1F093}   \n",
       "ENABLED                                          1   \n",
       "JETTER                                         NaN   \n",
       "SHAPE_LEN                                 70.32951   \n",
       "\n",
       "                                                 1  \\\n",
       "FACILITYID                             42458-42457   \n",
       "TYPE                                     COLLECTOR   \n",
       "SEWER_SERV                             83-94-00-00   \n",
       "PIPE_SIZE                                        8   \n",
       "PIPE_MATER                         ASBESTOS CEMENT   \n",
       "SLOPE                                          0.4   \n",
       "DESIGN_LEN                                    71.3   \n",
       "LENGTH                                        71.3   \n",
       "UPSTREAM_I                                   688.1   \n",
       "DOWNSTREAM                                  687.82   \n",
       "LINING_TYP                                    NONE   \n",
       "STORM_CONC                                      NO   \n",
       "COORDINATE                              DIGITIZING   \n",
       "LIFECYCLE_                                  ACTIVE   \n",
       "LOCATION                                       NaN   \n",
       "OWNED_BY                                    COUNTY   \n",
       "MAINTAINED                                  COUNTY   \n",
       "RESPONSIBL              DEPARTMENT OF PUBLIC WORKS   \n",
       "CONDITION                                        0   \n",
       "CONDITION_                                     NaN   \n",
       "INSTALL_DA                     1970-01-01 00:00:00   \n",
       "WARRANTY_D                                     NaN   \n",
       "REHABILITA                                     NaT   \n",
       "REHABILI_1                                     NaN   \n",
       "NOTES                                          NaN   \n",
       "CREATED_US                              stevesmith   \n",
       "CREATED_DA                     2015-09-03 00:00:00   \n",
       "LAST_EDITE                              stevesmith   \n",
       "LAST_EDI_1                     2015-09-03 00:00:00   \n",
       "GLOBALID    {3F356ABF-33D7-463B-8502-4A5C4C352B0C}   \n",
       "ENABLED                                          1   \n",
       "JETTER                                         NaN   \n",
       "SHAPE_LEN                                71.302674   \n",
       "\n",
       "                                                 2  \\\n",
       "FACILITYID                             42457-42452   \n",
       "TYPE                                     COLLECTOR   \n",
       "SEWER_SERV                             83-94-00-00   \n",
       "PIPE_SIZE                                        8   \n",
       "PIPE_MATER                         ASBESTOS CEMENT   \n",
       "SLOPE                                          0.4   \n",
       "DESIGN_LEN                                   139.1   \n",
       "LENGTH                                      139.18   \n",
       "UPSTREAM_I                                  687.72   \n",
       "DOWNSTREAM                                  687.17   \n",
       "LINING_TYP                                    NONE   \n",
       "STORM_CONC                                      NO   \n",
       "COORDINATE                              DIGITIZING   \n",
       "LIFECYCLE_                                  ACTIVE   \n",
       "LOCATION                                       NaN   \n",
       "OWNED_BY                                    COUNTY   \n",
       "MAINTAINED                                  COUNTY   \n",
       "RESPONSIBL              DEPARTMENT OF PUBLIC WORKS   \n",
       "CONDITION                                        0   \n",
       "CONDITION_                                     NaN   \n",
       "INSTALL_DA                     1970-01-01 00:00:00   \n",
       "WARRANTY_D                                     NaN   \n",
       "REHABILITA                                     NaT   \n",
       "REHABILI_1                                     NaN   \n",
       "NOTES                                          NaN   \n",
       "CREATED_US                              stevesmith   \n",
       "CREATED_DA                     2015-09-03 00:00:00   \n",
       "LAST_EDITE                              stevesmith   \n",
       "LAST_EDI_1                     2015-09-03 00:00:00   \n",
       "GLOBALID    {98C04947-F754-487E-8794-A29FC72B13BE}   \n",
       "ENABLED                                          1   \n",
       "JETTER                                         NaN   \n",
       "SHAPE_LEN                               139.176544   \n",
       "\n",
       "                                                 3  \\\n",
       "FACILITYID                             42452-42451   \n",
       "TYPE                                     COLLECTOR   \n",
       "SEWER_SERV                             83-94-00-00   \n",
       "PIPE_SIZE                                        8   \n",
       "PIPE_MATER                                 UNKNOWN   \n",
       "SLOPE                                          0.4   \n",
       "DESIGN_LEN                                   335.8   \n",
       "LENGTH                                      335.83   \n",
       "UPSTREAM_I                                  687.07   \n",
       "DOWNSTREAM                                  685.73   \n",
       "LINING_TYP                                    NONE   \n",
       "STORM_CONC                                      NO   \n",
       "COORDINATE                              DIGITIZING   \n",
       "LIFECYCLE_                                  ACTIVE   \n",
       "LOCATION                                       NaN   \n",
       "OWNED_BY                                    COUNTY   \n",
       "MAINTAINED                                  COUNTY   \n",
       "RESPONSIBL              DEPARTMENT OF PUBLIC WORKS   \n",
       "CONDITION                                        0   \n",
       "CONDITION_                                     NaN   \n",
       "INSTALL_DA                     1970-01-01 00:00:00   \n",
       "WARRANTY_D                                     NaN   \n",
       "REHABILITA                                     NaT   \n",
       "REHABILI_1                                     NaN   \n",
       "NOTES                                          NaN   \n",
       "CREATED_US                              stevesmith   \n",
       "CREATED_DA                     2015-09-03 00:00:00   \n",
       "LAST_EDITE                              stevesmith   \n",
       "LAST_EDI_1                     2015-09-03 00:00:00   \n",
       "GLOBALID    {25338C76-0A56-4E0F-8493-93E91B0EA770}   \n",
       "ENABLED                                          1   \n",
       "JETTER                                         NaN   \n",
       "SHAPE_LEN                               335.831233   \n",
       "\n",
       "                                                 4  \n",
       "FACILITYID                             42451-42450  \n",
       "TYPE                                     COLLECTOR  \n",
       "SEWER_SERV                             83-94-00-00  \n",
       "PIPE_SIZE                                        8  \n",
       "PIPE_MATER                                 UNKNOWN  \n",
       "SLOPE                                          0.4  \n",
       "DESIGN_LEN                                   387.7  \n",
       "LENGTH                                      387.79  \n",
       "UPSTREAM_I                                  685.63  \n",
       "DOWNSTREAM                                  684.03  \n",
       "LINING_TYP                                    NONE  \n",
       "STORM_CONC                                      NO  \n",
       "COORDINATE                              DIGITIZING  \n",
       "LIFECYCLE_                                  ACTIVE  \n",
       "LOCATION                                       NaN  \n",
       "OWNED_BY                                    COUNTY  \n",
       "MAINTAINED                                  COUNTY  \n",
       "RESPONSIBL              DEPARTMENT OF PUBLIC WORKS  \n",
       "CONDITION                                        0  \n",
       "CONDITION_                                     NaN  \n",
       "INSTALL_DA                     1970-01-01 00:00:00  \n",
       "WARRANTY_D                                     NaN  \n",
       "REHABILITA                                     NaT  \n",
       "REHABILI_1                                     NaN  \n",
       "NOTES                                          NaN  \n",
       "CREATED_US                              stevesmith  \n",
       "CREATED_DA                     2015-09-03 00:00:00  \n",
       "LAST_EDITE                              stevesmith  \n",
       "LAST_EDI_1                     2015-09-03 00:00:00  \n",
       "GLOBALID    {6D977270-4965-41DF-A19C-CDB5924BD2F9}  \n",
       "ENABLED                                          1  \n",
       "JETTER                                         NaN  \n",
       "SHAPE_LEN                               387.790553  "
      ]
     },
     "execution_count": 19,
     "metadata": {},
     "output_type": "execute_result"
    }
   ],
   "source": [
    "df_GIS.head().T"
   ]
  },
  {
   "cell_type": "code",
   "execution_count": 20,
   "metadata": {},
   "outputs": [],
   "source": [
    "#Select important columns from GIS\n",
    "GIS_columns= [\n",
    "    'FACILITYID',\n",
    "    'TYPE',\n",
    "    'LINING_TYP',\n",
    "    'PIPE_SIZE',\n",
    "    'PIPE_MATER',\n",
    "    'SLOPE',\n",
    "    'LENGTH',\n",
    "    'INSTALL_DA',\n",
    "    'UPSTREAM_I',\n",
    "    'DOWNSTREAM'\n",
    "]\n",
    "df_GIS = df_GIS[GIS_columns]"
   ]
  },
  {
   "cell_type": "code",
   "execution_count": 21,
   "metadata": {},
   "outputs": [
    {
     "data": {
      "text/html": [
       "<div>\n",
       "<style scoped>\n",
       "    .dataframe tbody tr th:only-of-type {\n",
       "        vertical-align: middle;\n",
       "    }\n",
       "\n",
       "    .dataframe tbody tr th {\n",
       "        vertical-align: top;\n",
       "    }\n",
       "\n",
       "    .dataframe thead th {\n",
       "        text-align: right;\n",
       "    }\n",
       "</style>\n",
       "<table border=\"1\" class=\"dataframe\">\n",
       "  <thead>\n",
       "    <tr style=\"text-align: right;\">\n",
       "      <th></th>\n",
       "      <th>FACILITYID</th>\n",
       "      <th>TYPE</th>\n",
       "      <th>LINING_TYP</th>\n",
       "      <th>PIPE_SIZE</th>\n",
       "      <th>PIPE_MATER</th>\n",
       "      <th>SLOPE</th>\n",
       "      <th>LENGTH</th>\n",
       "      <th>INSTALL_DA</th>\n",
       "      <th>UPSTREAM_I</th>\n",
       "      <th>DOWNSTREAM</th>\n",
       "    </tr>\n",
       "  </thead>\n",
       "  <tbody>\n",
       "    <tr>\n",
       "      <th>0</th>\n",
       "      <td>42453-42452</td>\n",
       "      <td>COLLECTOR</td>\n",
       "      <td>NONE</td>\n",
       "      <td>8</td>\n",
       "      <td>UNKNOWN</td>\n",
       "      <td>1.7</td>\n",
       "      <td>70.33</td>\n",
       "      <td>1970-01-01</td>\n",
       "      <td>688.36</td>\n",
       "      <td>687.17</td>\n",
       "    </tr>\n",
       "    <tr>\n",
       "      <th>1</th>\n",
       "      <td>42458-42457</td>\n",
       "      <td>COLLECTOR</td>\n",
       "      <td>NONE</td>\n",
       "      <td>8</td>\n",
       "      <td>ASBESTOS CEMENT</td>\n",
       "      <td>0.4</td>\n",
       "      <td>71.30</td>\n",
       "      <td>1970-01-01</td>\n",
       "      <td>688.10</td>\n",
       "      <td>687.82</td>\n",
       "    </tr>\n",
       "    <tr>\n",
       "      <th>2</th>\n",
       "      <td>42457-42452</td>\n",
       "      <td>COLLECTOR</td>\n",
       "      <td>NONE</td>\n",
       "      <td>8</td>\n",
       "      <td>ASBESTOS CEMENT</td>\n",
       "      <td>0.4</td>\n",
       "      <td>139.18</td>\n",
       "      <td>1970-01-01</td>\n",
       "      <td>687.72</td>\n",
       "      <td>687.17</td>\n",
       "    </tr>\n",
       "    <tr>\n",
       "      <th>3</th>\n",
       "      <td>42452-42451</td>\n",
       "      <td>COLLECTOR</td>\n",
       "      <td>NONE</td>\n",
       "      <td>8</td>\n",
       "      <td>UNKNOWN</td>\n",
       "      <td>0.4</td>\n",
       "      <td>335.83</td>\n",
       "      <td>1970-01-01</td>\n",
       "      <td>687.07</td>\n",
       "      <td>685.73</td>\n",
       "    </tr>\n",
       "    <tr>\n",
       "      <th>4</th>\n",
       "      <td>42451-42450</td>\n",
       "      <td>COLLECTOR</td>\n",
       "      <td>NONE</td>\n",
       "      <td>8</td>\n",
       "      <td>UNKNOWN</td>\n",
       "      <td>0.4</td>\n",
       "      <td>387.79</td>\n",
       "      <td>1970-01-01</td>\n",
       "      <td>685.63</td>\n",
       "      <td>684.03</td>\n",
       "    </tr>\n",
       "  </tbody>\n",
       "</table>\n",
       "</div>"
      ],
      "text/plain": [
       "    FACILITYID       TYPE LINING_TYP  PIPE_SIZE       PIPE_MATER  SLOPE  \\\n",
       "0  42453-42452  COLLECTOR       NONE          8          UNKNOWN    1.7   \n",
       "1  42458-42457  COLLECTOR       NONE          8  ASBESTOS CEMENT    0.4   \n",
       "2  42457-42452  COLLECTOR       NONE          8  ASBESTOS CEMENT    0.4   \n",
       "3  42452-42451  COLLECTOR       NONE          8          UNKNOWN    0.4   \n",
       "4  42451-42450  COLLECTOR       NONE          8          UNKNOWN    0.4   \n",
       "\n",
       "   LENGTH INSTALL_DA  UPSTREAM_I  DOWNSTREAM  \n",
       "0   70.33 1970-01-01      688.36      687.17  \n",
       "1   71.30 1970-01-01      688.10      687.82  \n",
       "2  139.18 1970-01-01      687.72      687.17  \n",
       "3  335.83 1970-01-01      687.07      685.73  \n",
       "4  387.79 1970-01-01      685.63      684.03  "
      ]
     },
     "execution_count": 21,
     "metadata": {},
     "output_type": "execute_result"
    }
   ],
   "source": [
    "df_GIS.head()"
   ]
  },
  {
   "cell_type": "code",
   "execution_count": 22,
   "metadata": {},
   "outputs": [
    {
     "name": "stdout",
     "output_type": "stream",
     "text": [
      "<class 'pandas.core.frame.DataFrame'>\n",
      "RangeIndex: 62728 entries, 0 to 62727\n",
      "Data columns (total 10 columns):\n",
      " #   Column      Non-Null Count  Dtype         \n",
      "---  ------      --------------  -----         \n",
      " 0   FACILITYID  62728 non-null  object        \n",
      " 1   TYPE        62728 non-null  object        \n",
      " 2   LINING_TYP  62663 non-null  object        \n",
      " 3   PIPE_SIZE   62728 non-null  int64         \n",
      " 4   PIPE_MATER  62371 non-null  object        \n",
      " 5   SLOPE       62728 non-null  float64       \n",
      " 6   LENGTH      62728 non-null  float64       \n",
      " 7   INSTALL_DA  61600 non-null  datetime64[ns]\n",
      " 8   UPSTREAM_I  62728 non-null  float64       \n",
      " 9   DOWNSTREAM  62728 non-null  float64       \n",
      "dtypes: datetime64[ns](1), float64(4), int64(1), object(4)\n",
      "memory usage: 4.8+ MB\n"
     ]
    }
   ],
   "source": [
    "df_GIS.info()"
   ]
  },
  {
   "cell_type": "code",
   "execution_count": 23,
   "metadata": {},
   "outputs": [],
   "source": [
    "#Combining two data frame \n",
    "df_merged = pd.merge(df_rate, df_GIS,  how='left', left_on=['FACILITYID'],right_on=['FACILITYID'])"
   ]
  },
  {
   "cell_type": "code",
   "execution_count": 24,
   "metadata": {},
   "outputs": [],
   "source": [
    "df_merged.drop('FACILITYID', axis=1, inplace=True)"
   ]
  },
  {
   "cell_type": "code",
   "execution_count": 25,
   "metadata": {},
   "outputs": [
    {
     "data": {
      "text/html": [
       "<div>\n",
       "<style scoped>\n",
       "    .dataframe tbody tr th:only-of-type {\n",
       "        vertical-align: middle;\n",
       "    }\n",
       "\n",
       "    .dataframe tbody tr th {\n",
       "        vertical-align: top;\n",
       "    }\n",
       "\n",
       "    .dataframe thead th {\n",
       "        text-align: right;\n",
       "    }\n",
       "</style>\n",
       "<table border=\"1\" class=\"dataframe\">\n",
       "  <thead>\n",
       "    <tr style=\"text-align: right;\">\n",
       "      <th></th>\n",
       "      <th>rate</th>\n",
       "      <th>TYPE</th>\n",
       "      <th>LINING_TYP</th>\n",
       "      <th>PIPE_SIZE</th>\n",
       "      <th>PIPE_MATER</th>\n",
       "      <th>SLOPE</th>\n",
       "      <th>LENGTH</th>\n",
       "      <th>INSTALL_DA</th>\n",
       "      <th>UPSTREAM_I</th>\n",
       "      <th>DOWNSTREAM</th>\n",
       "    </tr>\n",
       "  </thead>\n",
       "  <tbody>\n",
       "    <tr>\n",
       "      <th>0</th>\n",
       "      <td>-0.002894</td>\n",
       "      <td>COLLECTOR</td>\n",
       "      <td>NONE</td>\n",
       "      <td>12.0</td>\n",
       "      <td>VITRIFIED CLAY PIPE</td>\n",
       "      <td>0.49</td>\n",
       "      <td>400.69</td>\n",
       "      <td>1926-01-01</td>\n",
       "      <td>464.26</td>\n",
       "      <td>462.33</td>\n",
       "    </tr>\n",
       "    <tr>\n",
       "      <th>1</th>\n",
       "      <td>-0.003315</td>\n",
       "      <td>COLLECTOR</td>\n",
       "      <td>NONE</td>\n",
       "      <td>8.0</td>\n",
       "      <td>VITRIFIED CLAY PIPE</td>\n",
       "      <td>2.50</td>\n",
       "      <td>374.65</td>\n",
       "      <td>1926-01-01</td>\n",
       "      <td>478.42</td>\n",
       "      <td>469.26</td>\n",
       "    </tr>\n",
       "    <tr>\n",
       "      <th>2</th>\n",
       "      <td>-0.002532</td>\n",
       "      <td>COLLECTOR</td>\n",
       "      <td>NONE</td>\n",
       "      <td>8.0</td>\n",
       "      <td>VITRIFIED CLAY PIPE</td>\n",
       "      <td>2.00</td>\n",
       "      <td>385.08</td>\n",
       "      <td>1926-01-01</td>\n",
       "      <td>384.65</td>\n",
       "      <td>376.80</td>\n",
       "    </tr>\n",
       "    <tr>\n",
       "      <th>3</th>\n",
       "      <td>-0.004082</td>\n",
       "      <td>COLLECTOR</td>\n",
       "      <td>NONE</td>\n",
       "      <td>8.0</td>\n",
       "      <td>VITRIFIED CLAY PIPE</td>\n",
       "      <td>2.00</td>\n",
       "      <td>301.28</td>\n",
       "      <td>1926-01-01</td>\n",
       "      <td>390.86</td>\n",
       "      <td>384.75</td>\n",
       "    </tr>\n",
       "    <tr>\n",
       "      <th>4</th>\n",
       "      <td>-0.008889</td>\n",
       "      <td>COLLECTOR</td>\n",
       "      <td>NONE</td>\n",
       "      <td>15.0</td>\n",
       "      <td>VITRIFIED CLAY PIPE</td>\n",
       "      <td>0.30</td>\n",
       "      <td>302.96</td>\n",
       "      <td>1950-01-01</td>\n",
       "      <td>9.68</td>\n",
       "      <td>8.81</td>\n",
       "    </tr>\n",
       "  </tbody>\n",
       "</table>\n",
       "</div>"
      ],
      "text/plain": [
       "       rate       TYPE LINING_TYP  PIPE_SIZE           PIPE_MATER  SLOPE  \\\n",
       "0 -0.002894  COLLECTOR       NONE       12.0  VITRIFIED CLAY PIPE   0.49   \n",
       "1 -0.003315  COLLECTOR       NONE        8.0  VITRIFIED CLAY PIPE   2.50   \n",
       "2 -0.002532  COLLECTOR       NONE        8.0  VITRIFIED CLAY PIPE   2.00   \n",
       "3 -0.004082  COLLECTOR       NONE        8.0  VITRIFIED CLAY PIPE   2.00   \n",
       "4 -0.008889  COLLECTOR       NONE       15.0  VITRIFIED CLAY PIPE   0.30   \n",
       "\n",
       "   LENGTH INSTALL_DA  UPSTREAM_I  DOWNSTREAM  \n",
       "0  400.69 1926-01-01      464.26      462.33  \n",
       "1  374.65 1926-01-01      478.42      469.26  \n",
       "2  385.08 1926-01-01      384.65      376.80  \n",
       "3  301.28 1926-01-01      390.86      384.75  \n",
       "4  302.96 1950-01-01        9.68        8.81  "
      ]
     },
     "execution_count": 25,
     "metadata": {},
     "output_type": "execute_result"
    }
   ],
   "source": [
    "df_merged.head()"
   ]
  },
  {
   "cell_type": "code",
   "execution_count": 26,
   "metadata": {},
   "outputs": [
    {
     "name": "stdout",
     "output_type": "stream",
     "text": [
      "<class 'pandas.core.frame.DataFrame'>\n",
      "Int64Index: 1253 entries, 0 to 1252\n",
      "Data columns (total 10 columns):\n",
      " #   Column      Non-Null Count  Dtype         \n",
      "---  ------      --------------  -----         \n",
      " 0   rate        1253 non-null   float64       \n",
      " 1   TYPE        1249 non-null   object        \n",
      " 2   LINING_TYP  1249 non-null   object        \n",
      " 3   PIPE_SIZE   1249 non-null   float64       \n",
      " 4   PIPE_MATER  1249 non-null   object        \n",
      " 5   SLOPE       1249 non-null   float64       \n",
      " 6   LENGTH      1249 non-null   float64       \n",
      " 7   INSTALL_DA  1235 non-null   datetime64[ns]\n",
      " 8   UPSTREAM_I  1249 non-null   float64       \n",
      " 9   DOWNSTREAM  1249 non-null   float64       \n",
      "dtypes: datetime64[ns](1), float64(6), object(3)\n",
      "memory usage: 107.7+ KB\n"
     ]
    }
   ],
   "source": [
    "df_merged.info()"
   ]
  },
  {
   "cell_type": "code",
   "execution_count": 27,
   "metadata": {},
   "outputs": [],
   "source": [
    "# Converting datetime variable \n",
    "today = np.datetime64('today') \n",
    "\n",
    "def days_passed(d):\n",
    "    return ( today - d).days\n"
   ]
  },
  {
   "cell_type": "code",
   "execution_count": 28,
   "metadata": {},
   "outputs": [
    {
     "data": {
      "text/html": [
       "<div>\n",
       "<style scoped>\n",
       "    .dataframe tbody tr th:only-of-type {\n",
       "        vertical-align: middle;\n",
       "    }\n",
       "\n",
       "    .dataframe tbody tr th {\n",
       "        vertical-align: top;\n",
       "    }\n",
       "\n",
       "    .dataframe thead th {\n",
       "        text-align: right;\n",
       "    }\n",
       "</style>\n",
       "<table border=\"1\" class=\"dataframe\">\n",
       "  <thead>\n",
       "    <tr style=\"text-align: right;\">\n",
       "      <th></th>\n",
       "      <th>rate</th>\n",
       "      <th>TYPE</th>\n",
       "      <th>LINING_TYP</th>\n",
       "      <th>PIPE_SIZE</th>\n",
       "      <th>PIPE_MATER</th>\n",
       "      <th>SLOPE</th>\n",
       "      <th>LENGTH</th>\n",
       "      <th>UPSTREAM_I</th>\n",
       "      <th>DOWNSTREAM</th>\n",
       "      <th>time_since_install_da</th>\n",
       "    </tr>\n",
       "  </thead>\n",
       "  <tbody>\n",
       "    <tr>\n",
       "      <th>0</th>\n",
       "      <td>-0.002894</td>\n",
       "      <td>COLLECTOR</td>\n",
       "      <td>NONE</td>\n",
       "      <td>12.0</td>\n",
       "      <td>VITRIFIED CLAY PIPE</td>\n",
       "      <td>0.49</td>\n",
       "      <td>400.69</td>\n",
       "      <td>464.26</td>\n",
       "      <td>462.33</td>\n",
       "      <td>35192.0</td>\n",
       "    </tr>\n",
       "    <tr>\n",
       "      <th>1</th>\n",
       "      <td>-0.003315</td>\n",
       "      <td>COLLECTOR</td>\n",
       "      <td>NONE</td>\n",
       "      <td>8.0</td>\n",
       "      <td>VITRIFIED CLAY PIPE</td>\n",
       "      <td>2.50</td>\n",
       "      <td>374.65</td>\n",
       "      <td>478.42</td>\n",
       "      <td>469.26</td>\n",
       "      <td>35192.0</td>\n",
       "    </tr>\n",
       "    <tr>\n",
       "      <th>2</th>\n",
       "      <td>-0.002532</td>\n",
       "      <td>COLLECTOR</td>\n",
       "      <td>NONE</td>\n",
       "      <td>8.0</td>\n",
       "      <td>VITRIFIED CLAY PIPE</td>\n",
       "      <td>2.00</td>\n",
       "      <td>385.08</td>\n",
       "      <td>384.65</td>\n",
       "      <td>376.80</td>\n",
       "      <td>35192.0</td>\n",
       "    </tr>\n",
       "    <tr>\n",
       "      <th>3</th>\n",
       "      <td>-0.004082</td>\n",
       "      <td>COLLECTOR</td>\n",
       "      <td>NONE</td>\n",
       "      <td>8.0</td>\n",
       "      <td>VITRIFIED CLAY PIPE</td>\n",
       "      <td>2.00</td>\n",
       "      <td>301.28</td>\n",
       "      <td>390.86</td>\n",
       "      <td>384.75</td>\n",
       "      <td>35192.0</td>\n",
       "    </tr>\n",
       "    <tr>\n",
       "      <th>4</th>\n",
       "      <td>-0.008889</td>\n",
       "      <td>COLLECTOR</td>\n",
       "      <td>NONE</td>\n",
       "      <td>15.0</td>\n",
       "      <td>VITRIFIED CLAY PIPE</td>\n",
       "      <td>0.30</td>\n",
       "      <td>302.96</td>\n",
       "      <td>9.68</td>\n",
       "      <td>8.81</td>\n",
       "      <td>26426.0</td>\n",
       "    </tr>\n",
       "  </tbody>\n",
       "</table>\n",
       "</div>"
      ],
      "text/plain": [
       "       rate       TYPE LINING_TYP  PIPE_SIZE           PIPE_MATER  SLOPE  \\\n",
       "0 -0.002894  COLLECTOR       NONE       12.0  VITRIFIED CLAY PIPE   0.49   \n",
       "1 -0.003315  COLLECTOR       NONE        8.0  VITRIFIED CLAY PIPE   2.50   \n",
       "2 -0.002532  COLLECTOR       NONE        8.0  VITRIFIED CLAY PIPE   2.00   \n",
       "3 -0.004082  COLLECTOR       NONE        8.0  VITRIFIED CLAY PIPE   2.00   \n",
       "4 -0.008889  COLLECTOR       NONE       15.0  VITRIFIED CLAY PIPE   0.30   \n",
       "\n",
       "   LENGTH  UPSTREAM_I  DOWNSTREAM  time_since_install_da  \n",
       "0  400.69      464.26      462.33                35192.0  \n",
       "1  374.65      478.42      469.26                35192.0  \n",
       "2  385.08      384.65      376.80                35192.0  \n",
       "3  301.28      390.86      384.75                35192.0  \n",
       "4  302.96        9.68        8.81                26426.0  "
      ]
     },
     "execution_count": 28,
     "metadata": {},
     "output_type": "execute_result"
    }
   ],
   "source": [
    "df_merged['time_since_install_da'] = [days_passed(x) for x in df_merged['INSTALL_DA']]\n",
    "df_merged.drop('INSTALL_DA', axis=1, inplace=True)\n",
    "df_merged.head()"
   ]
  },
  {
   "cell_type": "code",
   "execution_count": 29,
   "metadata": {},
   "outputs": [
    {
     "name": "stdout",
     "output_type": "stream",
     "text": [
      "<class 'pandas.core.frame.DataFrame'>\n",
      "Int64Index: 1253 entries, 0 to 1252\n",
      "Data columns (total 10 columns):\n",
      " #   Column                 Non-Null Count  Dtype  \n",
      "---  ------                 --------------  -----  \n",
      " 0   rate                   1253 non-null   float64\n",
      " 1   TYPE                   1249 non-null   object \n",
      " 2   LINING_TYP             1249 non-null   object \n",
      " 3   PIPE_SIZE              1249 non-null   float64\n",
      " 4   PIPE_MATER             1249 non-null   object \n",
      " 5   SLOPE                  1249 non-null   float64\n",
      " 6   LENGTH                 1249 non-null   float64\n",
      " 7   UPSTREAM_I             1249 non-null   float64\n",
      " 8   DOWNSTREAM             1249 non-null   float64\n",
      " 9   time_since_install_da  1235 non-null   float64\n",
      "dtypes: float64(7), object(3)\n",
      "memory usage: 107.7+ KB\n"
     ]
    }
   ],
   "source": [
    "df_merged.info()\n"
   ]
  },
  {
   "cell_type": "code",
   "execution_count": 30,
   "metadata": {},
   "outputs": [
    {
     "data": {
      "text/plain": [
       "(1253, 10)"
      ]
     },
     "execution_count": 30,
     "metadata": {},
     "output_type": "execute_result"
    }
   ],
   "source": [
    "#check the number of rows and columns in the dataframe\n",
    "df_merged.shape"
   ]
  },
  {
   "cell_type": "markdown",
   "metadata": {},
   "source": [
    "Now, the data is ready for further analysis.\n"
   ]
  },
  {
   "cell_type": "markdown",
   "metadata": {},
   "source": [
    "### Sanity check and handling Data Inconsistencies\n"
   ]
  },
  {
   "cell_type": "markdown",
   "metadata": {},
   "source": [
    "### Visualizations"
   ]
  },
  {
   "cell_type": "code",
   "execution_count": 31,
   "metadata": {},
   "outputs": [
    {
     "data": {
      "text/plain": [
       "<AxesSubplot:>"
      ]
     },
     "execution_count": 31,
     "metadata": {},
     "output_type": "execute_result"
    },
    {
     "data": {
      "image/png": "[encoded data removed]",
      "text/plain": [
       "<Figure size 432x288 with 1 Axes>"
      ]
     },
     "metadata": {
      "needs_background": "light"
     },
     "output_type": "display_data"
    }
   ],
   "source": [
    "df_merged.rate.hist()"
   ]
  },
  {
   "cell_type": "code",
   "execution_count": 32,
   "metadata": {},
   "outputs": [
    {
     "data": {
      "text/plain": [
       "<AxesSubplot:>"
      ]
     },
     "execution_count": 32,
     "metadata": {},
     "output_type": "execute_result"
    },
    {
     "data": {
      "image/png": "[encoded data removed]",
      "text/plain": [
       "<Figure size 432x288 with 1 Axes>"
      ]
     },
     "metadata": {
      "needs_background": "light"
     },
     "output_type": "display_data"
    }
   ],
   "source": [
    "#print(df_merged.rate.value_counts())\n",
    "df_merged.rate.hist(range=[-0.05 ,0])"
   ]
  },
  {
   "cell_type": "code",
   "execution_count": 33,
   "metadata": {},
   "outputs": [
    {
     "name": "stdout",
     "output_type": "stream",
     "text": [
      "COLLECTOR          1247\n",
      "INVERTED SIPHON       2\n",
      "Name: TYPE, dtype: int64\n"
     ]
    },
    {
     "data": {
      "text/plain": [
       "<AxesSubplot:>"
      ]
     },
     "execution_count": 33,
     "metadata": {},
     "output_type": "execute_result"
    },
    {
     "data": {
      "image/png": "[encoded data removed]",
      "text/plain": [
       "<Figure size 432x288 with 1 Axes>"
      ]
     },
     "metadata": {
      "needs_background": "light"
     },
     "output_type": "display_data"
    }
   ],
   "source": [
    "print(df_merged.TYPE.value_counts())\n",
    "df_merged.TYPE.value_counts().plot(kind='bar')"
   ]
  },
  {
   "cell_type": "code",
   "execution_count": 34,
   "metadata": {},
   "outputs": [
    {
     "name": "stdout",
     "output_type": "stream",
     "text": [
      "NONE              1085\n",
      "CURED IN PLACE     145\n",
      "FOLD AND FORM       11\n",
      "Cured in Place       4\n",
      "UNKNOWN              4\n",
      "Name: LINING_TYP, dtype: int64\n"
     ]
    },
    {
     "data": {
      "text/plain": [
       "<AxesSubplot:>"
      ]
     },
     "execution_count": 34,
     "metadata": {},
     "output_type": "execute_result"
    },
    {
     "data": {
      "image/png": "[encoded data removed]",
      "text/plain": [
       "<Figure size 432x288 with 1 Axes>"
      ]
     },
     "metadata": {
      "needs_background": "light"
     },
     "output_type": "display_data"
    }
   ],
   "source": [
    "print(df_merged.LINING_TYP.value_counts())\n",
    "df_merged.LINING_TYP.value_counts().plot(kind='bar')"
   ]
  },
  {
   "cell_type": "markdown",
   "metadata": {},
   "source": [
    "I noticed some inconsistencies and fixed them below"
   ]
  },
  {
   "cell_type": "code",
   "execution_count": 35,
   "metadata": {},
   "outputs": [],
   "source": [
    "df_merged.replace({\n",
    "    'Cured in Place': 'CURED IN PLACE'\n",
    "}, inplace=True)"
   ]
  },
  {
   "cell_type": "code",
   "execution_count": 36,
   "metadata": {},
   "outputs": [
    {
     "name": "stdout",
     "output_type": "stream",
     "text": [
      "NONE              1085\n",
      "CURED IN PLACE     149\n",
      "FOLD AND FORM       11\n",
      "UNKNOWN              4\n",
      "Name: LINING_TYP, dtype: int64\n"
     ]
    },
    {
     "data": {
      "text/plain": [
       "<AxesSubplot:>"
      ]
     },
     "execution_count": 36,
     "metadata": {},
     "output_type": "execute_result"
    },
    {
     "data": {
      "image/png": "[encoded data removed]",
      "text/plain": [
       "<Figure size 432x288 with 1 Axes>"
      ]
     },
     "metadata": {
      "needs_background": "light"
     },
     "output_type": "display_data"
    }
   ],
   "source": [
    "print(df_merged.LINING_TYP.value_counts())\n",
    "df_merged.LINING_TYP.value_counts().plot(kind='bar')"
   ]
  },
  {
   "cell_type": "code",
   "execution_count": 37,
   "metadata": {},
   "outputs": [
    {
     "data": {
      "text/plain": [
       "<AxesSubplot:>"
      ]
     },
     "execution_count": 37,
     "metadata": {},
     "output_type": "execute_result"
    },
    {
     "data": {
      "image/png": "[encoded data removed]",
      "text/plain": [
       "<Figure size 432x288 with 1 Axes>"
      ]
     },
     "metadata": {
      "needs_background": "light"
     },
     "output_type": "display_data"
    }
   ],
   "source": [
    "df_merged.PIPE_SIZE.hist()"
   ]
  },
  {
   "cell_type": "code",
   "execution_count": 38,
   "metadata": {},
   "outputs": [
    {
     "name": "stdout",
     "output_type": "stream",
     "text": [
      "VITRIFIED CLAY PIPE                953\n",
      "POLYVINYL CHLORIDE                 108\n",
      "UNKNOWN                             78\n",
      "DUCTILE IRON PIPE                   45\n",
      "CAST IRON                           43\n",
      "CONCRETE PIPE                       10\n",
      "ACRYLONITRILE BUTADIENE STYRENE      9\n",
      "ASBESTOS CEMENT                      2\n",
      "REINFORCED PLASTIC PIPE              1\n",
      "Name: PIPE_MATER, dtype: int64\n"
     ]
    },
    {
     "data": {
      "text/plain": [
       "<AxesSubplot:>"
      ]
     },
     "execution_count": 38,
     "metadata": {},
     "output_type": "execute_result"
    },
    {
     "data": {
      "image/png": "[encoded data removed]",
      "text/plain": [
       "<Figure size 432x288 with 1 Axes>"
      ]
     },
     "metadata": {
      "needs_background": "light"
     },
     "output_type": "display_data"
    }
   ],
   "source": [
    "\n",
    "print(df_merged.PIPE_MATER.value_counts())\n",
    "df_merged.PIPE_MATER.value_counts().plot(kind='bar')"
   ]
  },
  {
   "cell_type": "code",
   "execution_count": 39,
   "metadata": {},
   "outputs": [
    {
     "data": {
      "text/plain": [
       "<AxesSubplot:>"
      ]
     },
     "execution_count": 39,
     "metadata": {},
     "output_type": "execute_result"
    },
    {
     "data": {
      "image/png": "[encoded data removed]",
      "text/plain": [
       "<Figure size 432x288 with 1 Axes>"
      ]
     },
     "metadata": {
      "needs_background": "light"
     },
     "output_type": "display_data"
    }
   ],
   "source": [
    "df_merged.SLOPE.hist()"
   ]
  },
  {
   "cell_type": "code",
   "execution_count": 40,
   "metadata": {},
   "outputs": [
    {
     "data": {
      "text/plain": [
       "<AxesSubplot:>"
      ]
     },
     "execution_count": 40,
     "metadata": {},
     "output_type": "execute_result"
    },
    {
     "data": {
      "image/png": "[encoded data removed]",
      "text/plain": [
       "<Figure size 432x288 with 1 Axes>"
      ]
     },
     "metadata": {
      "needs_background": "light"
     },
     "output_type": "display_data"
    }
   ],
   "source": [
    "df_merged.LENGTH.hist()"
   ]
  },
  {
   "cell_type": "markdown",
   "metadata": {},
   "source": [
    "### Calculating Target Values\n",
    "\n",
    "The target variable will be 1 or 0. If the target variable is 0, it needs to clean within five months; otherwise, the pipeline doesn't require cleaning.\n",
    "\n"
   ]
  },
  {
   "cell_type": "code",
   "execution_count": 41,
   "metadata": {},
   "outputs": [
    {
     "data": {
      "text/html": [
       "<div>\n",
       "<style scoped>\n",
       "    .dataframe tbody tr th:only-of-type {\n",
       "        vertical-align: middle;\n",
       "    }\n",
       "\n",
       "    .dataframe tbody tr th {\n",
       "        vertical-align: top;\n",
       "    }\n",
       "\n",
       "    .dataframe thead th {\n",
       "        text-align: right;\n",
       "    }\n",
       "</style>\n",
       "<table border=\"1\" class=\"dataframe\">\n",
       "  <thead>\n",
       "    <tr style=\"text-align: right;\">\n",
       "      <th></th>\n",
       "      <th>rate</th>\n",
       "      <th>TYPE</th>\n",
       "      <th>LINING_TYP</th>\n",
       "      <th>PIPE_SIZE</th>\n",
       "      <th>PIPE_MATER</th>\n",
       "      <th>SLOPE</th>\n",
       "      <th>LENGTH</th>\n",
       "      <th>UPSTREAM_I</th>\n",
       "      <th>DOWNSTREAM</th>\n",
       "      <th>time_since_install_da</th>\n",
       "    </tr>\n",
       "  </thead>\n",
       "  <tbody>\n",
       "    <tr>\n",
       "      <th>0</th>\n",
       "      <td>-0.002894</td>\n",
       "      <td>COLLECTOR</td>\n",
       "      <td>NONE</td>\n",
       "      <td>12.0</td>\n",
       "      <td>VITRIFIED CLAY PIPE</td>\n",
       "      <td>0.49</td>\n",
       "      <td>400.69</td>\n",
       "      <td>464.26</td>\n",
       "      <td>462.33</td>\n",
       "      <td>35192.0</td>\n",
       "    </tr>\n",
       "    <tr>\n",
       "      <th>1</th>\n",
       "      <td>-0.003315</td>\n",
       "      <td>COLLECTOR</td>\n",
       "      <td>NONE</td>\n",
       "      <td>8.0</td>\n",
       "      <td>VITRIFIED CLAY PIPE</td>\n",
       "      <td>2.50</td>\n",
       "      <td>374.65</td>\n",
       "      <td>478.42</td>\n",
       "      <td>469.26</td>\n",
       "      <td>35192.0</td>\n",
       "    </tr>\n",
       "    <tr>\n",
       "      <th>2</th>\n",
       "      <td>-0.002532</td>\n",
       "      <td>COLLECTOR</td>\n",
       "      <td>NONE</td>\n",
       "      <td>8.0</td>\n",
       "      <td>VITRIFIED CLAY PIPE</td>\n",
       "      <td>2.00</td>\n",
       "      <td>385.08</td>\n",
       "      <td>384.65</td>\n",
       "      <td>376.80</td>\n",
       "      <td>35192.0</td>\n",
       "    </tr>\n",
       "    <tr>\n",
       "      <th>3</th>\n",
       "      <td>-0.004082</td>\n",
       "      <td>COLLECTOR</td>\n",
       "      <td>NONE</td>\n",
       "      <td>8.0</td>\n",
       "      <td>VITRIFIED CLAY PIPE</td>\n",
       "      <td>2.00</td>\n",
       "      <td>301.28</td>\n",
       "      <td>390.86</td>\n",
       "      <td>384.75</td>\n",
       "      <td>35192.0</td>\n",
       "    </tr>\n",
       "    <tr>\n",
       "      <th>4</th>\n",
       "      <td>-0.008889</td>\n",
       "      <td>COLLECTOR</td>\n",
       "      <td>NONE</td>\n",
       "      <td>15.0</td>\n",
       "      <td>VITRIFIED CLAY PIPE</td>\n",
       "      <td>0.30</td>\n",
       "      <td>302.96</td>\n",
       "      <td>9.68</td>\n",
       "      <td>8.81</td>\n",
       "      <td>26426.0</td>\n",
       "    </tr>\n",
       "    <tr>\n",
       "      <th>...</th>\n",
       "      <td>...</td>\n",
       "      <td>...</td>\n",
       "      <td>...</td>\n",
       "      <td>...</td>\n",
       "      <td>...</td>\n",
       "      <td>...</td>\n",
       "      <td>...</td>\n",
       "      <td>...</td>\n",
       "      <td>...</td>\n",
       "      <td>...</td>\n",
       "    </tr>\n",
       "    <tr>\n",
       "      <th>1248</th>\n",
       "      <td>-0.003802</td>\n",
       "      <td>COLLECTOR</td>\n",
       "      <td>NONE</td>\n",
       "      <td>8.0</td>\n",
       "      <td>POLYVINYL CHLORIDE</td>\n",
       "      <td>0.50</td>\n",
       "      <td>37.04</td>\n",
       "      <td>-1.87</td>\n",
       "      <td>-2.06</td>\n",
       "      <td>6337.0</td>\n",
       "    </tr>\n",
       "    <tr>\n",
       "      <th>1249</th>\n",
       "      <td>-0.005566</td>\n",
       "      <td>COLLECTOR</td>\n",
       "      <td>NONE</td>\n",
       "      <td>8.0</td>\n",
       "      <td>POLYVINYL CHLORIDE</td>\n",
       "      <td>0.40</td>\n",
       "      <td>76.15</td>\n",
       "      <td>-1.20</td>\n",
       "      <td>-1.51</td>\n",
       "      <td>6337.0</td>\n",
       "    </tr>\n",
       "    <tr>\n",
       "      <th>1250</th>\n",
       "      <td>-0.005566</td>\n",
       "      <td>COLLECTOR</td>\n",
       "      <td>NONE</td>\n",
       "      <td>8.0</td>\n",
       "      <td>POLYVINYL CHLORIDE</td>\n",
       "      <td>0.40</td>\n",
       "      <td>51.58</td>\n",
       "      <td>-0.99</td>\n",
       "      <td>-1.20</td>\n",
       "      <td>6337.0</td>\n",
       "    </tr>\n",
       "    <tr>\n",
       "      <th>1251</th>\n",
       "      <td>-0.005566</td>\n",
       "      <td>COLLECTOR</td>\n",
       "      <td>NONE</td>\n",
       "      <td>8.0</td>\n",
       "      <td>POLYVINYL CHLORIDE</td>\n",
       "      <td>0.40</td>\n",
       "      <td>50.09</td>\n",
       "      <td>-0.79</td>\n",
       "      <td>-0.99</td>\n",
       "      <td>6337.0</td>\n",
       "    </tr>\n",
       "    <tr>\n",
       "      <th>1252</th>\n",
       "      <td>-0.019380</td>\n",
       "      <td>COLLECTOR</td>\n",
       "      <td>NONE</td>\n",
       "      <td>8.0</td>\n",
       "      <td>VITRIFIED CLAY PIPE</td>\n",
       "      <td>0.80</td>\n",
       "      <td>182.84</td>\n",
       "      <td>450.84</td>\n",
       "      <td>449.79</td>\n",
       "      <td>35923.0</td>\n",
       "    </tr>\n",
       "  </tbody>\n",
       "</table>\n",
       "<p>1253 rows × 10 columns</p>\n",
       "</div>"
      ],
      "text/plain": [
       "          rate       TYPE LINING_TYP  PIPE_SIZE           PIPE_MATER  SLOPE  \\\n",
       "0    -0.002894  COLLECTOR       NONE       12.0  VITRIFIED CLAY PIPE   0.49   \n",
       "1    -0.003315  COLLECTOR       NONE        8.0  VITRIFIED CLAY PIPE   2.50   \n",
       "2    -0.002532  COLLECTOR       NONE        8.0  VITRIFIED CLAY PIPE   2.00   \n",
       "3    -0.004082  COLLECTOR       NONE        8.0  VITRIFIED CLAY PIPE   2.00   \n",
       "4    -0.008889  COLLECTOR       NONE       15.0  VITRIFIED CLAY PIPE   0.30   \n",
       "...        ...        ...        ...        ...                  ...    ...   \n",
       "1248 -0.003802  COLLECTOR       NONE        8.0   POLYVINYL CHLORIDE   0.50   \n",
       "1249 -0.005566  COLLECTOR       NONE        8.0   POLYVINYL CHLORIDE   0.40   \n",
       "1250 -0.005566  COLLECTOR       NONE        8.0   POLYVINYL CHLORIDE   0.40   \n",
       "1251 -0.005566  COLLECTOR       NONE        8.0   POLYVINYL CHLORIDE   0.40   \n",
       "1252 -0.019380  COLLECTOR       NONE        8.0  VITRIFIED CLAY PIPE   0.80   \n",
       "\n",
       "      LENGTH  UPSTREAM_I  DOWNSTREAM  time_since_install_da  \n",
       "0     400.69      464.26      462.33                35192.0  \n",
       "1     374.65      478.42      469.26                35192.0  \n",
       "2     385.08      384.65      376.80                35192.0  \n",
       "3     301.28      390.86      384.75                35192.0  \n",
       "4     302.96        9.68        8.81                26426.0  \n",
       "...      ...         ...         ...                    ...  \n",
       "1248   37.04       -1.87       -2.06                 6337.0  \n",
       "1249   76.15       -1.20       -1.51                 6337.0  \n",
       "1250   51.58       -0.99       -1.20                 6337.0  \n",
       "1251   50.09       -0.79       -0.99                 6337.0  \n",
       "1252  182.84      450.84      449.79                35923.0  \n",
       "\n",
       "[1253 rows x 10 columns]"
      ]
     },
     "execution_count": 41,
     "metadata": {},
     "output_type": "execute_result"
    }
   ],
   "source": [
    "df_merged"
   ]
  },
  {
   "cell_type": "code",
   "execution_count": 42,
   "metadata": {},
   "outputs": [],
   "source": [
    "df_merged.dropna(inplace=True)\n",
    "df_merged = df_merged[df_merged.rate < 0].copy().reset_index(drop=True)"
   ]
  },
  {
   "cell_type": "code",
   "execution_count": 54,
   "metadata": {},
   "outputs": [],
   "source": [
    "#month = int((1/-r)/30) This formula gives us how many months it will take a pipe connection to decrease by 1. "
   ]
  },
  {
   "cell_type": "code",
   "execution_count": 43,
   "metadata": {},
   "outputs": [
    {
     "data": {
      "text/plain": [
       "0       1\n",
       "1       1\n",
       "2       1\n",
       "3       1\n",
       "4       0\n",
       "       ..\n",
       "1166    1\n",
       "1167    1\n",
       "1168    1\n",
       "1169    1\n",
       "1170    0\n",
       "Name: rate, Length: 1171, dtype: int64"
      ]
     },
     "execution_count": 43,
     "metadata": {},
     "output_type": "execute_result"
    }
   ],
   "source": [
    "import math\n",
    "\n",
    "def convert_target(r):\n",
    "    \"\"\"\n",
    "whether it needs to be cleaned within the next 5 months \n",
    "\"\"\"\n",
    "    \n",
    "    if r == 0:\n",
    "        return None\n",
    "    \n",
    "    month = int((1/-r)/30)\n",
    "    \n",
    "    if month < 5:\n",
    "        return 0\n",
    "    return 1\n",
    "\n",
    "target = df_merged['rate'].apply(convert_target)\n",
    "target"
   ]
  },
  {
   "cell_type": "code",
   "execution_count": 44,
   "metadata": {},
   "outputs": [
    {
     "data": {
      "text/plain": [
       "<AxesSubplot:>"
      ]
     },
     "execution_count": 44,
     "metadata": {},
     "output_type": "execute_result"
    },
    {
     "data": {
      "image/png": "[encoded data removed]",
      "text/plain": [
       "<Figure size 432x288 with 1 Axes>"
      ]
     },
     "metadata": {
      "needs_background": "light"
     },
     "output_type": "display_data"
    }
   ],
   "source": [
    "target.hist()"
   ]
  },
  {
   "cell_type": "code",
   "execution_count": 45,
   "metadata": {},
   "outputs": [],
   "source": [
    "df_merged['target']=target\n",
    "# df_merged.drop('rate', axis = 1 , inplace=True) # target is drived from rate. we are dropping rate"
   ]
  },
  {
   "cell_type": "markdown",
   "metadata": {},
   "source": [
    "We dropped the rate column since it is highly correlated with target columns. "
   ]
  },
  {
   "cell_type": "code",
   "execution_count": 46,
   "metadata": {},
   "outputs": [
    {
     "data": {
      "text/plain": [
       "792"
      ]
     },
     "execution_count": 46,
     "metadata": {},
     "output_type": "execute_result"
    }
   ],
   "source": [
    "sum(target > 0)"
   ]
  },
  {
   "cell_type": "code",
   "execution_count": null,
   "metadata": {},
   "outputs": [],
   "source": []
  },
  {
   "cell_type": "code",
   "execution_count": 47,
   "metadata": {},
   "outputs": [
    {
     "name": "stdout",
     "output_type": "stream",
     "text": [
      "<class 'pandas.core.frame.DataFrame'>\n",
      "RangeIndex: 1171 entries, 0 to 1170\n",
      "Data columns (total 10 columns):\n",
      " #   Column                 Non-Null Count  Dtype  \n",
      "---  ------                 --------------  -----  \n",
      " 0   TYPE                   1171 non-null   object \n",
      " 1   LINING_TYP             1171 non-null   object \n",
      " 2   PIPE_SIZE              1171 non-null   float64\n",
      " 3   PIPE_MATER             1171 non-null   object \n",
      " 4   SLOPE                  1171 non-null   float64\n",
      " 5   LENGTH                 1171 non-null   float64\n",
      " 6   UPSTREAM_I             1171 non-null   float64\n",
      " 7   DOWNSTREAM             1171 non-null   float64\n",
      " 8   time_since_install_da  1171 non-null   float64\n",
      " 9   target                 1171 non-null   int64  \n",
      "dtypes: float64(6), int64(1), object(3)\n",
      "memory usage: 91.6+ KB\n"
     ]
    }
   ],
   "source": [
    "df_merged.info()"
   ]
  },
  {
   "cell_type": "code",
   "execution_count": 51,
   "metadata": {},
   "outputs": [],
   "source": [
    "#Checking for missing values"
   ]
  },
  {
   "cell_type": "code",
   "execution_count": 48,
   "metadata": {},
   "outputs": [
    {
     "data": {
      "text/plain": [
       "TYPE                     0\n",
       "LINING_TYP               0\n",
       "PIPE_SIZE                0\n",
       "PIPE_MATER               0\n",
       "SLOPE                    0\n",
       "LENGTH                   0\n",
       "UPSTREAM_I               0\n",
       "DOWNSTREAM               0\n",
       "time_since_install_da    0\n",
       "target                   0\n",
       "dtype: int64"
      ]
     },
     "execution_count": 48,
     "metadata": {},
     "output_type": "execute_result"
    }
   ],
   "source": [
    "df_merged.isna().sum()"
   ]
  },
  {
   "cell_type": "code",
   "execution_count": 49,
   "metadata": {},
   "outputs": [
    {
     "data": {
      "text/plain": [
       "0    379\n",
       "1    792\n",
       "Name: target, dtype: int64"
      ]
     },
     "execution_count": 49,
     "metadata": {},
     "output_type": "execute_result"
    }
   ],
   "source": [
    "df_merged.target.value_counts().sort_index()"
   ]
  },
  {
   "cell_type": "code",
   "execution_count": 50,
   "metadata": {},
   "outputs": [],
   "source": [
    "df_merged.to_csv('SL_RAT_EDA2.csv')"
   ]
  },
  {
   "cell_type": "code",
   "execution_count": null,
   "metadata": {},
   "outputs": [],
   "source": []
  },
  {
   "cell_type": "code",
   "execution_count": null,
   "metadata": {},
   "outputs": [],
   "source": []
  }
 ],
 "metadata": {
  "colab": {
   "name": "SL-RAT EDA.ipynb",
   "provenance": []
  },
  "kernelspec": {
   "display_name": "Python 3 (ipykernel)",
   "language": "python",
   "name": "python3"
  },
  "language_info": {
   "codemirror_mode": {
    "name": "ipython",
    "version": 3
   },
   "file_extension": ".py",
   "mimetype": "text/x-python",
   "name": "python",
   "nbconvert_exporter": "python",
   "pygments_lexer": "ipython3",
   "version": "3.9.7"
  }
 },
 "nbformat": 4,
 "nbformat_minor": 1
}
